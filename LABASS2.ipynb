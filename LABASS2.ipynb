{
  "nbformat": 4,
  "nbformat_minor": 0,
  "metadata": {
    "colab": {
      "provenance": [],
      "collapsed_sections": [],
      "authorship_tag": "ABX9TyM8WJ7D9KfWIQAJ69VJ4U1Y",
      "include_colab_link": true
    },
    "kernelspec": {
      "name": "python3",
      "display_name": "Python 3"
    },
    "language_info": {
      "name": "python"
    }
  },
  "cells": [
    {
      "cell_type": "markdown",
      "metadata": {
        "id": "view-in-github",
        "colab_type": "text"
      },
      "source": [
        "<a href=\"https://colab.research.google.com/github/tasmita0131/Tasmita-Tanjim/blob/main/LABASS2.ipynb\" target=\"_parent\"><img src=\"https://colab.research.google.com/assets/colab-badge.svg\" alt=\"Open In Colab\"/></a>"
      ]
    },
    {
      "cell_type": "code",
      "execution_count": null,
      "metadata": {
        "colab": {
          "base_uri": "https://localhost:8080/"
        },
        "id": "-xL5AYciLmSa",
        "outputId": "ce0a8602-9ec6-4033-9248-6497c2ea63b6"
      },
      "outputs": [
        {
          "name": "stdout",
          "output_type": "stream",
          "text": [
            "Tell me the number: 10\n"
          ]
        },
        {
          "output_type": "execute_result",
          "data": {
            "text/plain": [
              "True"
            ]
          },
          "metadata": {},
          "execution_count": 29
        }
      ],
      "source": [
        "\n",
        "#ANSWER OF 1\n",
        "n = eval(input(\"Tell me the number: \"))\n",
        "def check_even_odd(n):\n",
        " if(n%2 == 0):\n",
        "  return True\n",
        " else:\n",
        "   return False\n",
        "\n",
        "check_even_odd(n)\n",
        "#check_even_odd(10)\n",
        "#check_even_odd(11)\n"
      ]
    },
    {
      "cell_type": "code",
      "source": [
        "#ANSWER OF 2\n",
        "n = eval(input(\"Tell me the number: \"))\n",
        "print('The outputs are : ')\n",
        "if(n%2 != 0):\n",
        "   i = n - 2\n",
        "   while i >= 0:\n",
        "    if(i != 0) and (i % 2 != 0):\n",
        "      print(i)\n",
        "      i = i - 2\n"
      ],
      "metadata": {
        "colab": {
          "base_uri": "https://localhost:8080/"
        },
        "id": "DBBnA_GQ4fVu",
        "outputId": "b00ac7ca-bedc-4d85-b0a2-18e420a57260"
      },
      "execution_count": null,
      "outputs": [
        {
          "output_type": "stream",
          "name": "stdout",
          "text": [
            "Tell me the number: 21\n",
            "The outputs are : \n",
            "19\n",
            "17\n",
            "15\n",
            "13\n",
            "11\n",
            "9\n",
            "7\n",
            "5\n",
            "3\n",
            "1\n"
          ]
        }
      ]
    },
    {
      "cell_type": "code",
      "source": [
        "#ANSWER OF 3\n",
        "n = eval(input(\"Tell me the number: \"))\n",
        "def sum_odd(n):\n",
        "  sum=0\n",
        "  for i in range(n+1):\n",
        "      if(i%2!=0):\n",
        "       sum=sum+i\n",
        "  print(\"The sum is :\",sum)\n",
        "sum_odd(n)"
      ],
      "metadata": {
        "colab": {
          "base_uri": "https://localhost:8080/"
        },
        "id": "nl-5vgu56OKX",
        "outputId": "679b90e7-a268-4e8b-a15f-d4ecf66f8848"
      },
      "execution_count": null,
      "outputs": [
        {
          "output_type": "stream",
          "name": "stdout",
          "text": [
            "Tell me the number: 7\n",
            "The sum is : 16\n"
          ]
        }
      ]
    },
    {
      "cell_type": "code",
      "source": [
        "#ANSWER OF 4\n",
        "n = eval(input(\"Tell me the number: \"))\n",
        "def sum_odd(n):\n",
        "  sum=0\n",
        "  for i in range(n+1):\n",
        "      if(i%2==0):\n",
        "       sum=sum+i\n",
        "  print(\"The sum is :\",sum)\n",
        "sum_odd(n)"
      ],
      "metadata": {
        "colab": {
          "base_uri": "https://localhost:8080/"
        },
        "id": "lmOl8EHOHWPq",
        "outputId": "112879b9-7f21-4645-abe7-f9c955516ac6"
      },
      "execution_count": null,
      "outputs": [
        {
          "output_type": "stream",
          "name": "stdout",
          "text": [
            "Tell me the number: 6\n",
            "The sum is : 12\n"
          ]
        }
      ]
    },
    {
      "cell_type": "code",
      "source": [
        "#ANSWER OF 5\n",
        "def positive(n):\n",
        " n = eval(input(\"Tell me the number: \"))\n",
        " if(n>0) and (n%2==0):\n",
        "    for i in range(n+1):\n",
        "     if(i%2==0) and (i!=0):\n",
        "      print(i)\n",
        " else:\n",
        "    print(\"Half of the odd number is : \",n/2)\n",
        "\n",
        "positive(n)\n"
      ],
      "metadata": {
        "colab": {
          "base_uri": "https://localhost:8080/"
        },
        "id": "p8Gbi_DuHtOm",
        "outputId": "be98fc35-d0ac-4366-d968-6e3f97dd85bc"
      },
      "execution_count": null,
      "outputs": [
        {
          "output_type": "stream",
          "name": "stdout",
          "text": [
            "Tell me the number: 8\n",
            "2\n",
            "4\n",
            "6\n",
            "8\n"
          ]
        }
      ]
    },
    {
      "cell_type": "code",
      "source": [
        "#ANSWER OF 6\n",
        "\n",
        "a = eval(input(\"Tell me 1st number: \"))\n",
        "b = eval(input(\"Tell me 2nd number: \"))\n",
        "c = eval(input(\"Tell me 3rd number: \"))\n",
        "def foo(a,b,c):\n",
        " if(a>b) and (a>c):\n",
        "    sum = b*b + c*c\n",
        " elif(b>a) and (b>c):\n",
        "    sum = a*a + c*c\n",
        " else:\n",
        "    sum = a*a + b*b\n",
        " print(\"The sum is :\",sum)\n",
        " if(sum<10):\n",
        "      print('Error!Digit expected')\n",
        "foo(a,b,c)\n",
        "\n"
      ],
      "metadata": {
        "colab": {
          "base_uri": "https://localhost:8080/"
        },
        "id": "E2iZvGnbNIwu",
        "outputId": "979e12de-0812-4947-f4e6-5970ff76568e"
      },
      "execution_count": 2,
      "outputs": [
        {
          "output_type": "stream",
          "name": "stdout",
          "text": [
            "Tell me 1st number: 1\n",
            "Tell me 2nd number: 2\n",
            "Tell me 3rd number: 3\n",
            "The sum is : 5\n",
            "Error!Digit expected\n"
          ]
        }
      ]
    }
  ]
}