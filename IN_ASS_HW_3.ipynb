{
  "nbformat": 4,
  "nbformat_minor": 0,
  "metadata": {
    "colab": {
      "provenance": [],
      "collapsed_sections": [],
      "authorship_tag": "ABX9TyMnYk9Muca4Ntrg3Y1PNdkO",
      "include_colab_link": true
    },
    "kernelspec": {
      "name": "python3",
      "display_name": "Python 3"
    },
    "language_info": {
      "name": "python"
    }
  },
  "cells": [
    {
      "cell_type": "markdown",
      "metadata": {
        "id": "view-in-github",
        "colab_type": "text"
      },
      "source": [
        "<a href=\"https://colab.research.google.com/github/tasmita0131/Tasmita-Tanjim/blob/main/IN_ASS_HW_3.ipynb\" target=\"_parent\"><img src=\"https://colab.research.google.com/assets/colab-badge.svg\" alt=\"Open In Colab\"/></a>"
      ]
    },
    {
      "cell_type": "code",
      "execution_count": null,
      "metadata": {
        "colab": {
          "base_uri": "https://localhost:8080/"
        },
        "id": "_P2CefIGgJMc",
        "outputId": "227afc01-769f-43ca-8aba-70adcff7772e"
      },
      "outputs": [
        {
          "output_type": "stream",
          "name": "stdout",
          "text": [
            "Input the iteration number :100\n",
            "2.718281828459045\n"
          ]
        }
      ],
      "source": [
        "#ANSWER OF 1\n",
        "iter=eval(input('Input the iteration number :'))\n",
        "n=1\n",
        "def factorial(iter):\n",
        "    a=iter\n",
        "    i=a\n",
        "    fact=1\n",
        "    while(i>=1):\n",
        "       fact=fact*i\n",
        "       i=i-1\n",
        "    return fact\n",
        "\n",
        "\n",
        "def approx_e(iter):\n",
        "  sum=0\n",
        "  sum=float(sum)\n",
        "  for j in range((iter-1),-1,-1):\n",
        "         sum = sum+float(1/factorial(j))\n",
        "  print(sum)\n",
        "\n",
        "approx_e(iter)"
      ]
    },
    {
      "cell_type": "code",
      "source": [
        "#ANSWER OF 2\n",
        "import math\n",
        "seq=[49,8,2,1,102]\n",
        "new_seq=[]\n",
        "def squares(seq):\n",
        "  for i in range(len(seq)):\n",
        "    root=int(math.sqrt(seq[i]))\n",
        "    if(seq[i] == (root*root)):     \n",
        "        new_seq.append(seq[i])\n",
        "  print(new_seq)\n",
        "squares(seq)"
      ],
      "metadata": {
        "colab": {
          "base_uri": "https://localhost:8080/"
        },
        "id": "T40eiN-xCYEc",
        "outputId": "52dc6c12-ec4a-464c-c031-2cca51e0376d"
      },
      "execution_count": null,
      "outputs": [
        {
          "output_type": "stream",
          "name": "stdout",
          "text": [
            "[49, 1]\n"
          ]
        }
      ]
    },
    {
      "cell_type": "code",
      "source": [
        "#ANSWER OF 3\n",
        "lst=[1,2,4,3,1]\n",
        "new_lst=[1,2,4,3,1]\n",
        "x=eval(input('Input the number :'))\n",
        "el=eval(input('Input the number you want to add :'))\n",
        "def add_this_many(x,el,lst):\n",
        "      store=0\n",
        "      for i in range(len(lst)):\n",
        "        if(lst[i] == x):\n",
        "            store+=1\n",
        "            new_lst.append(el)\n",
        "      print(new_lst)\n",
        "\n",
        "add_this_many(x,el,lst)"
      ],
      "metadata": {
        "colab": {
          "base_uri": "https://localhost:8080/"
        },
        "id": "JmLfmnbuEk6I",
        "outputId": "f5999ae9-757b-4849-cd7d-0617f7f526df"
      },
      "execution_count": null,
      "outputs": [
        {
          "output_type": "stream",
          "name": "stdout",
          "text": [
            "Input the number :1\n",
            "Input the number you want to add :5\n",
            "[1, 2, 4, 3, 1, 5, 5]\n"
          ]
        }
      ]
    }
  ]
}