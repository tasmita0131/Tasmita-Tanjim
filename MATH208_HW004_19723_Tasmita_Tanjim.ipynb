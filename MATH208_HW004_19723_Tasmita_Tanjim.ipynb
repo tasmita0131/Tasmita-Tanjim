{
  "nbformat": 4,
  "nbformat_minor": 0,
  "metadata": {
    "colab": {
      "provenance": [],
      "authorship_tag": "ABX9TyMFFzLfoo0LJk0ED9n7KYtk",
      "include_colab_link": true
    },
    "kernelspec": {
      "name": "python3",
      "display_name": "Python 3"
    },
    "language_info": {
      "name": "python"
    }
  },
  "cells": [
    {
      "cell_type": "markdown",
      "metadata": {
        "id": "view-in-github",
        "colab_type": "text"
      },
      "source": [
        "<a href=\"https://colab.research.google.com/github/tasmita0131/Tasmita-Tanjim/blob/main/MATH208_HW004_19723_Tasmita_Tanjim.ipynb\" target=\"_parent\"><img src=\"https://colab.research.google.com/assets/colab-badge.svg\" alt=\"Open In Colab\"/></a>"
      ]
    },
    {
      "cell_type": "code",
      "execution_count": 12,
      "metadata": {
        "colab": {
          "base_uri": "https://localhost:8080/"
        },
        "id": "B-W5kWGKHGoV",
        "outputId": "49d8e643-17dd-45b9-be63-b1fc6c5326d3"
      },
      "outputs": [
        {
          "output_type": "stream",
          "name": "stdout",
          "text": [
            "Percentage of anchovies less than 9 cm: 2.2750 %\n"
          ]
        }
      ],
      "source": [
        "# percentages of the lengths in the               1.(a)\n",
        "# population of American anchovies Less than 9cm\n",
        "\n",
        "from scipy.stats import norm\n",
        "A\n",
        "# Given parameters for the normal distribution\n",
        "given_mean = 10.3  # mean\n",
        "sigma = 0.65  # standard deviation\n",
        "\n",
        "# Calculating the probability of an anchovy being less than 9 cm\n",
        "prob_less_than_9 = norm.cdf(9, given_mean, sigma)\n",
        "\n",
        "# Converting the probability to a percentage\n",
        "percentage_less_than_9 = prob_less_than_9 * 100    #multiplying with 100\n",
        "\n",
        "formatted = \"{:.4f}\".format(percentage_less_than_9)    #Setting the decimal point value 4 after the point\n",
        "print(\"Percentage of anchovies less than 9 cm:\",formatted,\"%\")\n"
      ]
    },
    {
      "cell_type": "code",
      "source": [
        "# percentages of the lengths in the\n",
        "# population of American anchovies Between 9.5cm and 10.6cm.   1.(b)\n",
        "\n",
        "\n",
        "from scipy.stats import norm\n",
        "from scipy.integrate import quad\n",
        "\n",
        "# Define the PDF of the normal distribution\n",
        "def normal_pdf(x, mean, std):\n",
        "    return norm.pdf(x, mean, std)\n",
        "\n",
        "# Given parameters for the normal distribution\n",
        "mu = 10.3  # mean\n",
        "sigma = 0.65  # standard deviation\n",
        "\n",
        "# Integrate the PDF between 9.5 cm and 10.6 cm\n",
        "prob, _ = quad(normal_pdf, 9.5, 10.6, args=(mu, sigma))\n",
        "\n",
        "# Convert the probability to a percentage\n",
        "percentage = prob * 100\n",
        "\n",
        "formatted = \"{:.4f}\".format(percentage)\n",
        "print(\"Percentage of anchovies between 9.5 cm and 10.6 cm:\",formatted,\"%\")"
      ],
      "metadata": {
        "colab": {
          "base_uri": "https://localhost:8080/"
        },
        "id": "k-NCXdCbIpjL",
        "outputId": "40f07c8d-27b3-4bdb-f1ea-8171e9b65bfa"
      },
      "execution_count": 13,
      "outputs": [
        {
          "output_type": "stream",
          "name": "stdout",
          "text": [
            "Percentage of anchovies between 9.5 cm and 10.6 cm: 56.8589 %\n"
          ]
        }
      ]
    },
    {
      "cell_type": "code",
      "source": [
        "# What is the minimum length if a restaurant claimed that the    1.(c)\n",
        "# lengths of the sold anchovies are in the top of 20%?\n",
        "\n",
        "\n",
        "from scipy.stats import norm\n",
        "\n",
        "# Given parameters for the normal distribution\n",
        "given_mean = 10.3  # mean\n",
        "sigma = 0.65  # standard deviation\n",
        "\n",
        "# Calculating the minimum length for the top 20%\n",
        "# This is equivalent to finding the 80th percentile (100% - 20%)\n",
        "min_length_top_20_percent = norm.ppf(0.80, given_mean, sigma)\n",
        "\n",
        "formatted = \"{:.4f}\".format(min_length_top_20_percent)\n",
        "print(\"The minimum length of anchovies in the top 20%:\",formatted,\"cm\")"
      ],
      "metadata": {
        "colab": {
          "base_uri": "https://localhost:8080/"
        },
        "id": "KHUDaY9LH21T",
        "outputId": "bdbfe5f8-a43c-4e96-ece6-64614320aafe"
      },
      "execution_count": 14,
      "outputs": [
        {
          "output_type": "stream",
          "name": "stdout",
          "text": [
            "The minimum length of anchovies in the top 20%: 10.8471 cm\n"
          ]
        }
      ]
    },
    {
      "cell_type": "code",
      "source": [
        "#ANSWER OF 3:\n",
        "#verify the mean 𝜇 = 𝑛𝑝 and standard deviation σ=√npq for p = 0.05 and selecting\n",
        "#any n grater than 50 in binomial distribution.\n",
        "\n",
        "\n",
        "\n",
        "import numpy as np\n",
        "\n",
        "# Parameters for the binomial distribution\n",
        "total_trials = 100   # Total number of trials in each experiment\n",
        "success_probability = 0.05  # Probability of success in each trial\n",
        "\n",
        "# Theoretical mean and standard deviation calculations\n",
        "theoretical_mean = total_trials * success_probability\n",
        "failure_probability = 1 - success_probability  # Probability of failure\n",
        "theoretical_std_dev = np.sqrt(total_trials * success_probability * failure_probability)\n",
        "\n",
        "print(f\"Theoretical Mean: {theoretical_mean}\")\n",
        "print(f\"Theoretical Standard Deviation: {theoretical_std_dev}\")\n",
        "\n",
        "# Running simulations to empirically verify theoretical calculations\n",
        "num_of_simulations = 100000  # Number of simulated experiments\n",
        "simulated_results = np.random.binomial(total_trials, success_probability, num_of_simulations)\n",
        "\n",
        "# Calculating empirical mean and standard deviation from simulation results\n",
        "empirical_mean = np.mean(simulated_results)\n",
        "empirical_std_dev = np.std(simulated_results)\n",
        "\n",
        "print(\"Empirical Mean:\",empirical_mean)\n",
        "print(\"Empirical Standard Deviation:\",empirical_std_dev)\n"
      ],
      "metadata": {
        "colab": {
          "base_uri": "https://localhost:8080/"
        },
        "id": "VExnpsPSH2wB",
        "outputId": "46c9f75b-d75b-48ae-ebd0-8b6e58499bd7"
      },
      "execution_count": 16,
      "outputs": [
        {
          "output_type": "stream",
          "name": "stdout",
          "text": [
            "Theoretical Mean: 5.0\n",
            "Theoretical Standard Deviation: 2.179449471770337\n",
            "Empirical Mean: 5.0021\n",
            "Empirical Standard Deviation: 2.1842975049200604\n"
          ]
        }
      ]
    },
    {
      "cell_type": "code",
      "source": [
        "#ANSWER OF 4\n",
        "\n",
        "import numpy as np\n",
        "import matplotlib.pyplot as plt\n",
        "\n",
        "# Parameters for the binomial distribution\n",
        "n = 100\n",
        "p = 0.1\n",
        "\n",
        "# Generating binomial distribution data\n",
        "binomial_data = np.random.binomial(n, p, 10000)\n",
        "\n",
        "# Parameters for the approximating normal distribution\n",
        "mu = n * p\n",
        "sigma = np.sqrt(n * p * (1 - p))\n",
        "\n",
        "# Generating normal distribution data\n",
        "normal_data = np.random.normal(mu, sigma, 10000)\n",
        "\n",
        "# Plotting the histograms\n",
        "plt.figure(figsize=(12, 6))\n",
        "\n",
        "# Binomial distribution histogram\n",
        "plt.hist(binomial_data, bins=30, alpha=0.5, label='Binomial')\n",
        "\n",
        "# Normal distribution histogram\n",
        "plt.hist(normal_data, bins=30, alpha=0.5, label='Normal', color='green')\n",
        "\n",
        "plt.title('Binomial vs. Normal Distribution')\n",
        "plt.xlabel('Value')\n",
        "plt.ylabel('Frequency')\n",
        "plt.legend()\n",
        "plt.show()"
      ],
      "metadata": {
        "colab": {
          "base_uri": "https://localhost:8080/",
          "height": 564
        },
        "id": "InwSPMC4skur",
        "outputId": "7dd7ff75-bb5b-4c6e-f9ac-77a58d3674fa"
      },
      "execution_count": 22,
      "outputs": [
        {
          "output_type": "display_data",
          "data": {
            "text/plain": [
              "<Figure size 1200x600 with 1 Axes>"
            ],
            "image/png": "[encoded data removed]"
          },
          "metadata": {}
        }
      ]
    },
    {
      "cell_type": "code",
      "source": [
        "#ANSWER OF 5\n",
        "#in coin tossing experiments, please find the probability of the exact 6 heads\n",
        "#from 12 tossing by ONLY using the normal distribution method\n",
        "\n",
        "import scipy.stats as stats\n",
        "\n",
        "# Binomial distribution parameters\n",
        "n = 12  # number of trials\n",
        "p = 0.5  # probability of success (head)\n",
        "\n",
        "# Normal distribution parameters\n",
        "mu = n * p  # mean\n",
        "sigma = (n * p * (1 - p))**0.5  # standard deviation\n",
        "\n",
        "# Continuity correction: calculating Z-scores for 5.5 and 6.5\n",
        "Z_lower = (5.5 - mu) / sigma\n",
        "Z_upper = (6.5 - mu) / sigma\n",
        "\n",
        "# Finding probabilities corresponding to Z-scores\n",
        "prob_lower = stats.norm.cdf(Z_lower)\n",
        "prob_upper = stats.norm.cdf(Z_upper)\n",
        "\n",
        "# Probability of exactly 6 heads\n",
        "prob_exactly_6_heads = prob_upper - prob_lower\n",
        "prob_exactly_6_heads"
      ],
      "metadata": {
        "colab": {
          "base_uri": "https://localhost:8080/"
        },
        "id": "TwPIqB-Gskzg",
        "outputId": "90063f28-f574-41d3-ee57-b2fa9a354195"
      },
      "execution_count": 25,
      "outputs": [
        {
          "output_type": "execute_result",
          "data": {
            "text/plain": [
              "0.22717000731555248"
            ]
          },
          "metadata": {},
          "execution_count": 25
        }
      ]
    },
    {
      "cell_type": "code",
      "source": [
        "#ANSWER OF 6\n",
        "\n",
        "import scipy.stats as stats\n",
        "\n",
        "# Given parameters\n",
        "n = 150  # number of batteries\n",
        "p = 0.06  # defective rate\n",
        "x = 11.5  # continuity correction for 12 or more defectives\n",
        "\n",
        "# Normal approximation parameters\n",
        "mu = n * p  # mean\n",
        "sigma = (n * p * (1 - p))**0.5  # standard deviation\n",
        "\n",
        "# Calculating the Z-score for 11.5\n",
        "Z = (x - mu) / sigma\n",
        "\n",
        "# Calculating the probability for the Z-score using the normal distribution\n",
        "prob_less_than_11_5 = stats.norm.cdf(Z)\n",
        "\n",
        "# The probability of having 12 or more defectives\n",
        "probability_12_or_more = 1 - prob_less_than_11_5\n",
        "probability_12_or_more"
      ],
      "metadata": {
        "colab": {
          "base_uri": "https://localhost:8080/"
        },
        "id": "6ivaDgPLsk3F",
        "outputId": "65a062cd-223f-468a-ce00-9dbf3591fb60"
      },
      "execution_count": 2,
      "outputs": [
        {
          "output_type": "execute_result",
          "data": {
            "text/plain": [
              "0.1950274780613006"
            ]
          },
          "metadata": {},
          "execution_count": 2
        }
      ]
    },
    {
      "cell_type": "code",
      "source": [
        "#ANSWER OF 7\n",
        "\n",
        "from scipy.stats import t\n",
        "import numpy as np\n",
        "import matplotlib.pyplot as plt\n",
        "\n",
        "# Generate 100 random numbers from t-distribution with degrees of freedom = 10\n",
        "df = 10  # degrees of freedom\n",
        "t_dist_samples = t.rvs(df, size=100)\n",
        "\n",
        "# Calculate mean and standard deviation of these numbers\n",
        "mean_t_dist = np.mean(t_dist_samples)\n",
        "std_dev_t_dist = np.std(t_dist_samples)\n",
        "\n",
        "# Create 15 sampling groups, each with 30 samples\n",
        "samples_per_group = 30\n",
        "total_groups = 15\n",
        "group_means = []\n",
        "\n",
        "for _ in range(total_groups):\n",
        "    group_sample = np.random.choice(t_dist_samples, size=samples_per_group, replace=False)\n",
        "    group_means.append(np.mean(group_sample))\n",
        "\n",
        "# Calculate the mean of the sampling group means\n",
        "average_of_group_means = np.mean(group_means)\n",
        "\n",
        "# Verify Central Limit Theorem\n",
        "# The standard deviation of the sample means should be close to σ/√n\n",
        "std_dev_of_group_means = np.std(group_means)\n",
        "expected_std_dev_of_group_means = std_dev_t_dist / np.sqrt(samples_per_group)\n",
        "\n",
        "# Plot histogram of the sample means\n",
        "plt.hist(group_means, bins=10, color='green', edgecolor='black' ,alpha=0.7)\n",
        "plt.xlabel('Sample Means')\n",
        "plt.ylabel('Frequency')\n",
        "plt.title('Histogram of Sample Means')\n",
        "plt.show()\n",
        "\n",
        "# Display calculated values\n",
        "print(mean_t_dist, std_dev_t_dist, average_of_group_means, std_dev_of_group_means, expected_std_dev_of_group_means)\n"
      ],
      "metadata": {
        "colab": {
          "base_uri": "https://localhost:8080/",
          "height": 490
        },
        "id": "IU-4kV6UslAg",
        "outputId": "3d267f59-6529-402a-99c5-b75538ac6805"
      },
      "execution_count": 8,
      "outputs": [
        {
          "output_type": "display_data",
          "data": {
            "text/plain": [
              "<Figure size 640x480 with 1 Axes>"
            ],
            "image/png": "[encoded data removed]"
          },
          "metadata": {}
        },
        {
          "output_type": "stream",
          "name": "stdout",
          "text": [
            "-0.07114929103085094 1.1324283197918974 -0.025944231690025566 0.1655897197572799 0.2067521785025654\n"
          ]
        }
      ]
    },
    {
      "cell_type": "code",
      "source": [],
      "metadata": {
        "id": "4Kdq5IhKslD4"
      },
      "execution_count": null,
      "outputs": []
    }
  ]
}