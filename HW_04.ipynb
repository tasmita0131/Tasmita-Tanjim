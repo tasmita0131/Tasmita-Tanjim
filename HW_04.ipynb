{
  "nbformat": 4,
  "nbformat_minor": 0,
  "metadata": {
    "colab": {
      "provenance": [],
      "authorship_tag": "ABX9TyNugAQ7iWjE7aAC0FehiSF8",
      "include_colab_link": true
    },
    "kernelspec": {
      "name": "python3",
      "display_name": "Python 3"
    },
    "language_info": {
      "name": "python"
    }
  },
  "cells": [
    {
      "cell_type": "markdown",
      "metadata": {
        "id": "view-in-github",
        "colab_type": "text"
      },
      "source": [
        "<a href=\"https://colab.research.google.com/github/tasmita0131/Tasmita-Tanjim/blob/main/HW_04.ipynb\" target=\"_parent\"><img src=\"https://colab.research.google.com/assets/colab-badge.svg\" alt=\"Open In Colab\"/></a>"
      ]
    },
    {
      "cell_type": "code",
      "execution_count": null,
      "metadata": {
        "colab": {
          "base_uri": "https://localhost:8080/"
        },
        "id": "z-AM5v3kX9CX",
        "outputId": "17a34cda-b796-4b5e-894c-0bbc65e202e9"
      },
      "outputs": [
        {
          "output_type": "stream",
          "name": "stdout",
          "text": [
            "The maximun product of the list is : 90\n"
          ]
        }
      ],
      "source": [
        "#ANSWER OF 1\n",
        "lst=[10,3,1,9,2]\n",
        "new_lst=[]    #creating a new list\n",
        "def max_product(lst):\n",
        "    \n",
        "    for i in range(0,len(lst)):\n",
        "       new_lst.append(min(lst))   #appending the minimum of the list in the new list\n",
        "       lst.remove(min(lst))       #removing the last minimun of the main list\n",
        "    \n",
        "    print('The maximun product of the list is : ',end=\"\")\n",
        "    print(new_lst[-1]*new_lst[-2])   #printing the product of the last 2 elements\n",
        "max_product(lst)"
      ]
    },
    {
      "cell_type": "code",
      "source": [
        "#ANSWER OF 2\n",
        "lst = [-4, -2, 0, 1, 3]\n",
        "def coords(lst, lower, upper):\n",
        "  up=upper      #up means the upper limit of number\n",
        "  low=lower     #low means the lower limit of number\n",
        "  j=0       #j is a variable\n",
        "  new_lst=[]\n",
        "  for i in lst:\n",
        "   for j in range(len(lst)):\n",
        "       j=i**2\n",
        "       list = [i,j]\n",
        "       if(j < up+1 and j >= low):\n",
        "        new_lst.append(list)\n",
        "        break\n",
        "  print(new_lst,end=\"\")\n",
        "\n",
        "coords(lst, 1, 9)"
      ],
      "metadata": {
        "id": "6bHnKnn4I8-q"
      },
      "execution_count": null,
      "outputs": []
    },
    {
      "cell_type": "code",
      "source": [
        "#ANSWER OF 2\n",
        "def coords(fn,seq,low,up):\n",
        "  return [[x,fn(x)] for x in seq if low <= fn(x) <= up]\n",
        "\n",
        "print(coords(lambda x: x**2,[-4, -2, 0, 1, 3],1,9))"
      ],
      "metadata": {
        "colab": {
          "base_uri": "https://localhost:8080/"
        },
        "id": "0IWoj8QHJwqJ",
        "outputId": "d16d0d0f-cefa-4daa-e1f4-3a985ab24c8b"
      },
      "execution_count": 6,
      "outputs": [
        {
          "output_type": "stream",
          "name": "stdout",
          "text": [
            "[[-2, 4], [1, 1], [3, 9]]\n"
          ]
        }
      ]
    },
    {
      "cell_type": "code",
      "source": [
        "#ANSWER OF 3\n",
        "lst=[9,8,7,6,5,4]\n",
        "new_lst=[]\n",
        "for i in range(0,len(lst)):\n",
        "\n",
        "  new_lst.append(min(lst))    #appending the minimum of the list in the new list\n",
        "  lst.remove(min(lst))        #removing the last minimun of the main list\n",
        "\n",
        "print(new_lst)"
      ],
      "metadata": {
        "colab": {
          "base_uri": "https://localhost:8080/"
        },
        "id": "MF9Zudh2lmKS",
        "outputId": "adc967f5-b2fc-4e8b-e327-5db4021513a3"
      },
      "execution_count": null,
      "outputs": [
        {
          "output_type": "stream",
          "name": "stdout",
          "text": [
            "[4, 5, 6, 7, 8, 9]\n"
          ]
        }
      ]
    },
    {
      "cell_type": "code",
      "source": [
        "#ANSWER OF 4\n",
        "lst=[ [1,[2]], 3, [ [4], [5,[6] ] ]   ] \n",
        "n=eval(input('Tell me the number you want to check : '))\n",
        "new_lst=[]\n",
        "\n",
        "def makingList(lst):    #making a new_list\n",
        "\n",
        "    for i in lst:\n",
        "     if(type(i) == list):  #if the type of element is also a list \n",
        "        makingList(i)      #recursive function call, the element will again go to makingList function\n",
        "     else:\n",
        "       new_lst.append(i)   #else i will be added in the new_lst\n",
        "\n",
        "def checking(lst,n):       #new_list will come here.\n",
        " for i in range(len(lst)):\n",
        "   if (lst[i] == n):   \n",
        "       print('True')\n",
        "\n",
        "makingList(lst)\n",
        "#print(new_lst) #[1, 2, 3, 4, 5, 6]\n",
        "checking(new_lst,n)  #sending the new list in checking function "
      ],
      "metadata": {
        "id": "N-Ex5ksz7xU4",
        "colab": {
          "base_uri": "https://localhost:8080/"
        },
        "outputId": "a04a1694-4e64-459e-dfdb-9fe668e7137f"
      },
      "execution_count": null,
      "outputs": [
        {
          "output_type": "stream",
          "name": "stdout",
          "text": [
            "Tell me the number you want to check : 6\n",
            "True\n"
          ]
        }
      ]
    }
  ]
}