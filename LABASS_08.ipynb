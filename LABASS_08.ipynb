{
  "nbformat": 4,
  "nbformat_minor": 0,
  "metadata": {
    "colab": {
      "provenance": [],
      "collapsed_sections": [],
      "authorship_tag": "ABX9TyO8KTrAYGb05M17M+AuVXCW",
      "include_colab_link": true
    },
    "kernelspec": {
      "name": "python3",
      "display_name": "Python 3"
    },
    "language_info": {
      "name": "python"
    }
  },
  "cells": [
    {
      "cell_type": "markdown",
      "metadata": {
        "id": "view-in-github",
        "colab_type": "text"
      },
      "source": [
        "<a href=\"https://colab.research.google.com/github/tasmita0131/Tasmita-Tanjim/blob/main/LABASS_08.ipynb\" target=\"_parent\"><img src=\"https://colab.research.google.com/assets/colab-badge.svg\" alt=\"Open In Colab\"/></a>"
      ]
    },
    {
      "cell_type": "code",
      "execution_count": null,
      "metadata": {
        "colab": {
          "base_uri": "https://localhost:8080/"
        },
        "id": "3ZcckJ-encqL",
        "outputId": "ab816b88-1124-4544-d5ba-dd4cf5c5b9fa"
      },
      "outputs": [
        {
          "output_type": "stream",
          "name": "stdout",
          "text": [
            "Please input the radius :8\n",
            "The radius of the sphere is: 8\n",
            "The area of the surface is: 804.2496\n",
            "The volume of the sphere is: 2144.6656\n"
          ]
        }
      ],
      "source": [
        "#ANSWER OF 1\n",
        "class Spheres:\n",
        "  def __init__(self,radius):\n",
        "    self.radius=radius                                  #self is the object and radius is the parameter.\n",
        "    self.surface = float(4*3.1416*(self.radius**2))     #calculating the area of the surface.\n",
        "    self.vol=float((4/3)*3.1416*(self.radius**3))\n",
        "\n",
        "  def getRadius(self):                 #function named getRadius for returning the value of radius\n",
        "    print('The radius of the sphere is: ',end=\"\")\n",
        "    return self.radius\n",
        "\n",
        "  def surfaceArea(self):\n",
        "    print('The area of the surface is: ',end=\"\")\n",
        "    return self.surface\n",
        "\n",
        "  def volume(self):\n",
        "    print('The volume of the sphere is: ',end=\"\")\n",
        "    return self.vol\n",
        "\n",
        "p=eval(input('Please input the radius :'))  #taking input of the radius from the user in variable p\n",
        "a=Spheres(p)           #calling the class Sphere\n",
        "print(a.getRadius())\n",
        "print(a.surfaceArea())   #calling the surfaceArea method to get the value of area\n",
        "print(a.volume())"
      ]
    },
    {
      "cell_type": "code",
      "source": [
        "#ANSWER OF 2\n",
        "import random\n",
        "class Playing_cards:\n",
        "  \n",
        "  def __init__(self,rank,suit):\n",
        "    self.guess_numbers=rank\n",
        "    self.suits=suit\n",
        "    self.suit_values={'d':'Diamond','h':'Heart','c':'Clubs','s':'Spades'} #declaring a dict of all suits.\n",
        "  \n",
        "  def getRank(self):\n",
        "    return self.guess_numbers  #returning the number of the card.\n",
        "\n",
        "  def getSuit(self):\n",
        "    return self.suits          #returning the suit of the card. \n",
        "\n",
        "  def value(self):\n",
        "    if(self.guess_numbers==11):   #because face cards means king,queen and jack.\n",
        "      return 'Jack'  \n",
        "    elif(self.guess_numbers==12):\n",
        "      return 'Queen'\n",
        "    elif(self.guess_numbers==13):\n",
        "      return 'King'\n",
        "    elif(self.guess_numbers==1):     \n",
        "      return 'Ace'             #ace card's value is 1.\n",
        "    else:\n",
        "      return self.guess_numbers   #return the other card numbers from 2 to 10.\n",
        "\n",
        "  def __str__(self):\n",
        "    val=self.value()       #calling the value() method to get the specific number of the card.\n",
        "    print(' The card is : ',end='')\n",
        "    print(val, \"of\", self.suit_values[self.getSuit()])   #getting the string value of a specific key of the dict named self.suit_values\n",
        " \n",
        "n=eval(input('Number of generated cards : '))\n",
        "chars=['d','c','h','s']\n",
        "s=random.choice(chars)   #selecting a specific character from chars.\n",
        "a=Playing_cards(n,s)     #here n's value is the rank and s is the value of the suit of the init function.\n",
        "a.__str__()              #calling the str method."
      ],
      "metadata": {
        "colab": {
          "base_uri": "https://localhost:8080/"
        },
        "id": "h9gakXuX1YPg",
        "outputId": "29482deb-bd56-4b2d-9b86-591cb8c38b90"
      },
      "execution_count": 3,
      "outputs": [
        {
          "output_type": "stream",
          "name": "stdout",
          "text": [
            "Number of generated cards : 12\n",
            " The card is : Queen of Diamond\n"
          ]
        }
      ]
    }
  ]
}