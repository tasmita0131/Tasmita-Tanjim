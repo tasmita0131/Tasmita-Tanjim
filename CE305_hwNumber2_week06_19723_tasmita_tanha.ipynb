{
  "nbformat": 4,
  "nbformat_minor": 0,
  "metadata": {
    "colab": {
      "provenance": [],
      "authorship_tag": "ABX9TyPG6Up2Pl9i5D/97LcqEyIP",
      "include_colab_link": true
    },
    "kernelspec": {
      "name": "python3",
      "display_name": "Python 3"
    },
    "language_info": {
      "name": "python"
    }
  },
  "cells": [
    {
      "cell_type": "markdown",
      "metadata": {
        "id": "view-in-github",
        "colab_type": "text"
      },
      "source": [
        "<a href=\"https://colab.research.google.com/github/tasmita0131/Tasmita-Tanjim/blob/main/CE305_hwNumber2_week06_19723_tasmita_tanha.ipynb\" target=\"_parent\"><img src=\"https://colab.research.google.com/assets/colab-badge.svg\" alt=\"Open In Colab\"/></a>"
      ]
    },
    {
      "cell_type": "code",
      "source": [
        "#NUMBER 01\n",
        "import datetime              #import datetime to show the current system time\n",
        "def xor_operation(a, b):\n",
        "    result = []           #An empty string for joining the btis\n",
        "    for i in range(len(b)):\n",
        "      if a[i] == b[i]:    # if both are '0' or '1', for same inputs in XOR, output is 0\n",
        "        result.append('0')\n",
        "      else:\n",
        "        result.append('1')         #for different inputs in XOR, output is 1.\n",
        "        #appending the bit in the result string\n",
        "    return ''.join(result)\n",
        "\n",
        "\n",
        "\n",
        "def encoding(msg,poly):\n",
        "  #declaring variables.\n",
        "  a = msg +'00000'     #Auto adding 5 zeros as the highest power of polynomial is 5 in our given question\n",
        "  rem = a\n",
        "\n",
        "  for i in range(len(msg)):\n",
        "        # Checking the current leading bit of 'rem' variable\n",
        "\n",
        "        if rem[i] == '1':\n",
        "\n",
        "           # Calculating XOR between the current part of the message and the polynomial\n",
        "           xor_result = xor_operation(rem[i:i + len(poly)], poly)    #Calling the existing xor_operation function\n",
        "           rem =rem[:i] + xor_result + rem[i + len(xor_result):]     #Replacing the last apeended bits with the XOR result\n",
        "\n",
        "\n",
        "  # Extracting the CRC from the remainder\n",
        "  CRC = rem[len(msg):len(msg)+len(poly)-1]\n",
        "\n",
        "  # Creating the encoded message by appending the CRC to the original message\n",
        "  encoded_msg = msg + CRC\n",
        "  print(\"The encoded output of the given number is :\",encoded_msg)\n",
        "\n",
        "\n",
        "def decoding(rcv,poly):\n",
        "    rem = rcv       #Declaring the remainder is equal to recived_msg\n",
        "\n",
        "    for i in range(len(rcv) - len(poly) + 1):\n",
        "        if rem[i] == '1':                                          # When the current bit is 1, perform XOR with the polynomial\n",
        "            xor_result = xor_operation(rem[i:i+len(poly)], poly)\n",
        "            rem = rem[:i] + xor_result + rem[i+len(xor_result):]      ## Replace that part of the remainder with the XOR result\n",
        "\n",
        "    # Check if the remainder is zero\n",
        "    if rem[-(len(poly)-1):] == '0'*(len(poly)-1):\n",
        "      print(\"No Error\")\n",
        "    else:\n",
        "      print('Error!!!!!!!!!!!!!!')\n",
        "\n",
        "# Get the current time\n",
        "present_time = datetime.datetime.now()\n",
        "print('The current time right now is: ', present_time, \"\\n\")\n",
        "\n",
        "\n",
        "#Taking inputs from the user\n",
        "msg = input(\"Enter the binary message: \")\n",
        "poly = input(\"Enter the polynomial: \")\n",
        "choice = input(\"Do you want to Encode or Decode the message? (e/d): \\n\")\n",
        "\n",
        "\n",
        "if choice.lower() == 'e':\n",
        "    encoding(msg, poly)\n",
        "elif choice.lower() == 'd':\n",
        "    decoding(msg, poly)\n",
        "else:\n",
        "    print(\"Invalid option selected.\")\n"
      ],
      "metadata": {
        "colab": {
          "base_uri": "https://localhost:8080/"
        },
        "id": "5N9bMVjJDp0I",
        "outputId": "ca367541-342e-4cf3-ac3d-9adb18a86dfb"
      },
      "execution_count": 65,
      "outputs": [
        {
          "output_type": "stream",
          "name": "stdout",
          "text": [
            "The current time right now is:  2023-10-14 20:49:31.280574 \n",
            "\n",
            "Enter the binary message: 1100 11111\n",
            "Enter the polynomial: 100101\n",
            "Do you want to Encode or Decode the message? (e/d): \n",
            "d\n",
            "Error!!!!!!!!!!!!!!\n"
          ]
        }
      ]
    },
    {
      "cell_type": "code",
      "source": [],
      "metadata": {
        "id": "5dTtzdu04V_z"
      },
      "execution_count": null,
      "outputs": []
    },
    {
      "cell_type": "code",
      "source": [],
      "metadata": {
        "id": "QMhnJrCVOOxb"
      },
      "execution_count": null,
      "outputs": []
    },
    {
      "cell_type": "code",
      "source": [
        "#NUMBER 2\n",
        "import datetime\n",
        "\n",
        "# Encoding function\n",
        "def HamEncoding(data):\n",
        "    data_len = len(data)     #getting the length of the entire number\n",
        "    parity_bits_count = 1\n",
        "\n",
        "    # Finding the number of extra parity bits needed using a for loop\n",
        "    for i in range(data_len):\n",
        "        if data_len + parity_bits_count + 1 <= 2 ** parity_bits_count:\n",
        "            break\n",
        "        parity_bits_count += 1\n",
        "\n",
        "    encoded_data = [0] * (data_len + parity_bits_count)    ## Initialize the encoded_data list with zeros.\n",
        "    data_idx = 0           #declaring variables\n",
        "    parity_idx = 0\n",
        "\n",
        "    # Filling in encoded_data with data and parity bits\n",
        "    for i in range(1, data_len + parity_bits_count + 1):\n",
        "        if i == 2 ** parity_idx:\n",
        "            parity_idx += 1\n",
        "        else:\n",
        "            encoded_data[i - 1] = int(data[data_idx])\n",
        "            data_idx += 1\n",
        "\n",
        "    # Calculating and setting parity bits using a while loop\n",
        "    parity_bit_idx = 0\n",
        "    while parity_bit_idx < parity_bits_count:         #using a while loop when bit_idx is less than bits_count\n",
        "        parity_bit_value = 0\n",
        "        data_idx = 1\n",
        "\n",
        "        while data_idx <= data_len + parity_bits_count:\n",
        "            if data_idx & (2 ** parity_bit_idx):         # XOR the parity_bit_value with the value of the corresponding bit in encoded_data.\n",
        "                parity_bit_value ^= encoded_data[data_idx - 1]\n",
        "            data_idx += 1\n",
        "\n",
        "        encoded_data[2 ** parity_bit_idx - 1] = parity_bit_value\n",
        "        parity_bit_idx += 1          # Moving to the next parity bit position.\n",
        "\n",
        "\n",
        "    # Return the number of extra parity bits and the encoded data\n",
        "    return parity_bits_count, ''.join(map(str, encoded_data))\n",
        "    #making the list of integers using join which mean the encoded_data into a string without any spaces between them\n",
        "\n",
        "\n",
        "\n",
        "# Decoding function\n",
        "def HamDecoding(received_data, parity_bits_count):     #getting 2 inputs from the user\n",
        "    data_len = len(received_data)\n",
        "    decoded_data = list(received_data)      #converting the data into a list for easier calculation\n",
        "    error_position = 0                      #declaring error positon as 0\n",
        "\n",
        "\n",
        "    # Checking parity bits to find the error position\n",
        "    for i in range(int(parity_bits_count)):  # Converting to an integer\n",
        "        parity_bit_value = 0\n",
        "        parity_bit_position = 2 ** i  # Position of parity bit\n",
        "\n",
        "        for j in range(parity_bit_position - 1, data_len, 2 * parity_bit_position):\n",
        "            for k in range(parity_bit_position):\n",
        "                if j + k < data_len:\n",
        "                    parity_bit_value ^= int(decoded_data[j + k])\n",
        "\n",
        "        if parity_bit_value != 0:\n",
        "            error_position += parity_bit_position\n",
        "\n",
        "    # Correcting the error if found\n",
        "    if error_position != 0:\n",
        "        error_position -= 1  # Adjusting for 0-based indexing\n",
        "        decoded_data[error_position] = str(1 - int(decoded_data[error_position]))\n",
        "\n",
        "    return error_position, ''.join(decoded_data)\n",
        "\n",
        "# Get the current time\n",
        "present_time = datetime.datetime.now()\n",
        "print('The current time right now is: ', present_time, \"\\n\")\n",
        "\n",
        "print(\"Choose an option:\")\n",
        "print(\"1. Encode Data\")\n",
        "print(\"2. Decode Data\")\n",
        "print(\"3. Quit\")\n",
        "\n",
        "#Using the choice option to make the process user friendly\n",
        "choice = input(\"Enter your choice (1/2/3): \\n\")\n",
        "\n",
        "if choice == '1':\n",
        "    original_data = input(\"Enter the data to encode: \")\n",
        "    parity_count, encoded_output = HamEncoding(original_data)\n",
        "    print(f\"Number of Extra Parity Bits: {parity_count}\")\n",
        "    print(\"Encoded Data: \", encoded_output)\n",
        "\n",
        "elif choice == '2':\n",
        "    received_data = input(\"Enter the received data to decode: \")\n",
        "    parity_bits_count = input(\"Enter the numbers of extra parity bits: \")\n",
        "    error_pos, corrected_data = HamDecoding(received_data, parity_bits_count)\n",
        "    if error_pos == 0:\n",
        "        print(\"No error found.\")\n",
        "    else:\n",
        "        print(f\"Error at Position {error_pos + 1}, and corrected data: {corrected_data}\")    #Adding 1 for getting the correct position of the parity\n",
        "\n",
        "\n",
        "elif choice == '3':\n",
        "    pass  # The program will terminate\n",
        "else:\n",
        "    print(\"Invalid choice. Please choose a valid option (1/2/3).\")\n"
      ],
      "metadata": {
        "id": "mMmp3KJsOO3W",
        "colab": {
          "base_uri": "https://localhost:8080/"
        },
        "outputId": "3c30d4d5-bf80-4a79-bdc5-5f84d7708971"
      },
      "execution_count": 5,
      "outputs": [
        {
          "output_type": "stream",
          "name": "stdout",
          "text": [
            "The current time right now is:  2023-10-15 05:44:31.253230 \n",
            "\n",
            "Choose an option:\n",
            "1. Encode Data\n",
            "2. Decode Data\n",
            "3. Quit\n",
            "Enter your choice (1/2/3): \n",
            "2\n",
            "Enter the received data to decode: 10110000011\n",
            "Enter the numbers of extra parity bits: 4\n",
            "Error at Position 7, and corrected data: 10110010011\n"
          ]
        }
      ]
    },
    {
      "cell_type": "code",
      "source": [],
      "metadata": {
        "id": "dRguL_mGxvO4"
      },
      "execution_count": null,
      "outputs": []
    }
  ]
}