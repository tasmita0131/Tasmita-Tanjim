{
  "nbformat": 4,
  "nbformat_minor": 0,
  "metadata": {
    "colab": {
      "provenance": [],
      "authorship_tag": "ABX9TyOvG4+c8TeEO2XIB8dKiik/",
      "include_colab_link": true
    },
    "kernelspec": {
      "name": "python3",
      "display_name": "Python 3"
    },
    "language_info": {
      "name": "python"
    }
  },
  "cells": [
    {
      "cell_type": "markdown",
      "metadata": {
        "id": "view-in-github",
        "colab_type": "text"
      },
      "source": [
        "<a href=\"https://colab.research.google.com/github/tasmita0131/Tasmita-Tanjim/blob/main/CE305_HW04__WeekNum12_19723_Tasmita_Tanjim.ipynb\" target=\"_parent\"><img src=\"https://colab.research.google.com/assets/colab-badge.svg\" alt=\"Open In Colab\"/></a>"
      ]
    },
    {
      "cell_type": "code",
      "source": [
        "#ANS of 01 ( a code to print Hello in MARIE language)\n",
        "\n",
        "\n",
        "    ORG 100         / Set starting address\n",
        "    Load H          / Load the ASCII value of 'H'\n",
        "    Output          / Output 'H'\n",
        "    Load e          / Load the ASCII value of 'e'\n",
        "    Output          / Output 'e'\n",
        "    Load l          / Load the ASCII value of 'l'\n",
        "    Output          / Output 'l'\n",
        "    Load l          / Load the ASCII value of 'l' again\n",
        "    Output          / Output 'l'\n",
        "    Load o          / Load the ASCII value of 'o'\n",
        "    Output          / Output 'o'\n",
        "    Halt            / End of the program\n",
        "\n",
        "H,   DEC 72         / ASCII value of 'H'\n",
        "e,   DEC 101        / ASCII value of 'e'\n",
        "l,   DEC 108        / ASCII value of 'l'\n",
        "o,   DEC 111        / ASCII value of 'o'\n"
      ],
      "metadata": {
        "id": "P5zV756BrTSZ"
      },
      "execution_count": null,
      "outputs": []
    },
    {
      "cell_type": "code",
      "source": [
        "#ANSWER OF 2:\n",
        "\n",
        "ORG 100\n",
        "Load x\n",
        "store x\n",
        "Loop, Load x\n",
        "      Subt f\n",
        "      Skipcond 000\n",
        "      Jump ENDLOOP\n",
        "      Load x\n",
        "      Subt t\n",
        "      Skipcond 400\n",
        "      Jump Loop1\n",
        "      Jump ENDLOOP\n",
        "\n",
        "Loop1, Load x\n",
        "Output\n",
        "Add one\n",
        "store x\n",
        "Jump Loop\n",
        "\n",
        "ENDLOOP, Halt\n",
        "\n",
        "x, DEC 0\n",
        "t, DEC 3\n",
        "one, DEC 1\n",
        "f, DEC 5\n",
        "END 100\n",
        "\n",
        "\n"
      ],
      "metadata": {
        "id": "YDCdcNj5rTU0"
      },
      "execution_count": null,
      "outputs": []
    },
    {
      "cell_type": "code",
      "source": [
        "#ANSWER OF 3\n",
        "\n",
        "ORG 100\n",
        "Load x\n",
        "Store x\n",
        "Loop, Load x\n",
        "\t  Subt f\n",
        "      Skipcond 000\n",
        "      Jump ENDLOOP\n",
        "      Load x\n",
        "      Subt t\n",
        "      Skipcond 400\n",
        "      Jump Loop1\n",
        "      Jump Continue\n",
        "      Output\n",
        "\n",
        "Loop1, Load x\n",
        "\t   Output\n",
        "       Add o\n",
        "       Store x\n",
        "       Jump Loop\n",
        "ENDLOOP, Halt\n",
        "\n",
        "Continue, Load x\n",
        "\t      Add o\n",
        "          Store x\n",
        "          Jump Loop\n",
        "\n",
        "x, Dec 0\n",
        "t, Dec 3\n",
        "o, Dec 1\n",
        "f, DEC 5\n",
        "END 100\n",
        "\n",
        "\n"
      ],
      "metadata": {
        "id": "iBQ6oN9CrTYS"
      },
      "execution_count": null,
      "outputs": []
    },
    {
      "cell_type": "code",
      "source": [
        "#ANSWER OF 4\n",
        "\n",
        "ORG 100            / Start at address 100\n",
        "INPUT\n",
        "Store m\n",
        "Input\n",
        "Store n\n",
        "\n",
        "loop, Load m\n",
        "      add multiply\n",
        "      store multiply\n",
        "      load n\n",
        "      subt one\n",
        "      store n\n",
        "      skipcond 400\n",
        "      jump loop\n",
        "      load multiply\n",
        "      output\n",
        "\n",
        "halt\n",
        "m,dec 0\n",
        "n,dec 0\n",
        "one, Dec 1\n",
        "multiply, dec 0\n",
        "\n",
        "End 100\n",
        "\n",
        "\n"
      ],
      "metadata": {
        "id": "YkeP9xvpiwMB"
      },
      "execution_count": null,
      "outputs": []
    }
  ]
}