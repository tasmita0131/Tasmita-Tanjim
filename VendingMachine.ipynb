{
  "nbformat": 4,
  "nbformat_minor": 0,
  "metadata": {
    "colab": {
      "provenance": [],
      "authorship_tag": "ABX9TyMYjPYlx1MNPVyIV+zX5NCP",
      "include_colab_link": true
    },
    "kernelspec": {
      "name": "python3",
      "display_name": "Python 3"
    },
    "language_info": {
      "name": "python"
    }
  },
  "cells": [
    {
      "cell_type": "markdown",
      "metadata": {
        "id": "view-in-github",
        "colab_type": "text"
      },
      "source": [
        "<a href=\"https://colab.research.google.com/github/tasmita0131/Tasmita-Tanjim/blob/main/VendingMachine.ipynb\" target=\"_parent\"><img src=\"https://colab.research.google.com/assets/colab-badge.svg\" alt=\"Open In Colab\"/></a>"
      ]
    },
    {
      "cell_type": "code",
      "execution_count": 37,
      "metadata": {
        "id": "CHugtCsqaPo3",
        "colab": {
          "base_uri": "https://localhost:8080/"
        },
        "outputId": "fae34f45-0b68-465d-f204-29ce23ff83a6"
      },
      "outputs": [
        {
          "output_type": "stream",
          "name": "stdout",
          "text": [
            "Machine is out of stock\n",
            "Current  Crab  stock :  2\n",
            "You must deposit $ 10  more\n",
            "Current balance: $ 7\n",
            "You must deposit $ 3  more\n",
            "Current balance: $ 12\n",
            "Here is your Crab and $ 2 change\n",
            "Current balance: $ 10\n",
            "Here is your  Crab\n",
            "Machine is out of stock. Here is the $ 15\n"
          ]
        }
      ],
      "source": [
        "class VendingMachine:\n",
        "  def __init__(self,product,price):\n",
        "    self.product=product   #in this example the product is Crab\n",
        "    self.price=price\n",
        "    self.stock=0\n",
        "    self.balance=0\n",
        "\n",
        "  def restock(self,quantity):\n",
        "    self.stock=self.stock + quantity    \n",
        "    print(\"Current \",self.product ,\" stock : \",self.stock)\n",
        "\n",
        "  def deposit(self,money):\n",
        "    if (self.stock == 0):\n",
        "      print(\"Machine is out of stock. Here is the $\",money)\n",
        "    else:\n",
        "      self.balance=self.balance + money\n",
        "      print(\"Current balance: $\",self.balance)\n",
        "\n",
        "  def vend(self):\n",
        "    if(self.stock == 0):\n",
        "      print('Machine is out of stock')\n",
        "      return \n",
        "    if self.balance == self.price:\n",
        "      print(\"Here is your \",self.product)\n",
        "      self.stock=self.stock-1\n",
        "      self.balance=0\n",
        "    elif(self.balance > self.price):\n",
        "      self.balance=self.balance-self.price\n",
        "      print('Here is your',self.product,'and $',self.balance,'change')\n",
        "      self.balance=0\n",
        "      self.stock=self.stock-1\n",
        "    else: \n",
        "      print('You must deposit $',(self.price-self.balance),' more')\n",
        "\n",
        "\n",
        "v=VendingMachine('Crab',10)\n",
        "v.vend()\n",
        "v.restock(2)   #calling function named restock \n",
        "v.vend()\n",
        "v.deposit(7)\n",
        "v.vend()\n",
        "v.deposit(5)   #calling function named deposit\n",
        "v.vend()\n",
        "v.deposit(10)\n",
        "v.vend()\n",
        "v.deposit(15)"
      ]
    }
  ]
}