{
  "nbformat": 4,
  "nbformat_minor": 0,
  "metadata": {
    "colab": {
      "provenance": [],
      "collapsed_sections": [],
      "authorship_tag": "ABX9TyO5vuX2W16jRNNsUBGSV+46",
      "include_colab_link": true
    },
    "kernelspec": {
      "name": "python3",
      "display_name": "Python 3"
    },
    "language_info": {
      "name": "python"
    }
  },
  "cells": [
    {
      "cell_type": "markdown",
      "metadata": {
        "id": "view-in-github",
        "colab_type": "text"
      },
      "source": [
        "<a href=\"https://colab.research.google.com/github/tasmita0131/Tasmita-Tanjim/blob/main/LABASS09_30.ipynb\" target=\"_parent\"><img src=\"https://colab.research.google.com/assets/colab-badge.svg\" alt=\"Open In Colab\"/></a>"
      ]
    },
    {
      "cell_type": "code",
      "source": [
        "#ANSWER OF 1\n",
        "def reverse_string(text):\n",
        "  words = text.split()         \n",
        "  n=[]                        \n",
        "  for i in words:              \n",
        "    n.append(i[::-1])  \n",
        "    space = \"\".join(n)   \n",
        "  print(space)                 \n",
        "reverse_string(\"Hello , Python\")\n"
      ],
      "metadata": {
        "colab": {
          "base_uri": "https://localhost:8080/"
        },
        "id": "ovEAStua7bSy",
        "outputId": "429f3da7-cdce-4acf-8783-f2b633341005"
      },
      "execution_count": null,
      "outputs": [
        {
          "output_type": "stream",
          "name": "stdout",
          "text": [
            "olleH,nohtyP\n"
          ]
        }
      ]
    },
    {
      "cell_type": "code",
      "source": [
        "#  #ANSWER OF 1\n",
        "#  n=input('Tell us the sentence :')\n",
        "#  def reverse(n):\n",
        "#     s=n.split(\" \")\n",
        "#     for char in s:\n",
        "#       char=char[::-1]\n",
        "#       s=\"\".join(char)\n",
        "#       print(s,end=\" \")\n",
        "#  reverse(n)"
      ],
      "metadata": {
        "colab": {
          "base_uri": "https://localhost:8080/"
        },
        "id": "LcWHQ7j__frD",
        "outputId": "8f5b3689-71b8-45a4-bc36-c94260a3e95b"
      },
      "execution_count": null,
      "outputs": [
        {
          "output_type": "stream",
          "name": "stdout",
          "text": [
            "Tell us the sentence :tasmita tanjim\n",
            "atimsat mijnat "
          ]
        }
      ]
    },
    {
      "cell_type": "code",
      "source": [
        "#ANSWER 0F 2\n",
        "class Solution(object): \n",
        "    def SumOfTwo(self, n, target):\n",
        "        list = [] \n",
        "        for i in range(len(n) - 1):\n",
        "            for j in range(i + 1, len(n)): \n",
        "                s = n[i] + n[j]\n",
        "                if s == target:\n",
        "                    list.append((i, j)) \n",
        "        return list\n",
        "\n",
        "print(Solution().SumOfTwo([1,2,3,4], 7))"
      ],
      "metadata": {
        "colab": {
          "base_uri": "https://localhost:8080/"
        },
        "id": "kzhMCrXZ8HmM",
        "outputId": "8edc5349-3174-453b-86e7-ed8ae964455d"
      },
      "execution_count": 40,
      "outputs": [
        {
          "output_type": "stream",
          "name": "stdout",
          "text": [
            "[(2, 3)]\n"
          ]
        }
      ]
    },
    {
      "cell_type": "code",
      "source": [
        "#ANSWER OF 3\n",
        "m=input('Tell us the number :')\n",
        "def palindrome():\n",
        "    if(m==m[ ::-1]):\n",
        "     return True\n",
        "    else:\n",
        "      return False\n",
        "palindrome()"
      ],
      "metadata": {
        "colab": {
          "base_uri": "https://localhost:8080/"
        },
        "id": "kF6IWJmx_rws",
        "outputId": "4f70ba8f-3bd9-4244-caa0-9c8580ac4280"
      },
      "execution_count": 41,
      "outputs": [
        {
          "name": "stdout",
          "output_type": "stream",
          "text": [
            "Tell us the number :121\n"
          ]
        },
        {
          "output_type": "execute_result",
          "data": {
            "text/plain": [
              "True"
            ]
          },
          "metadata": {},
          "execution_count": 41
        }
      ]
    },
    {
      "cell_type": "code",
      "source": [
        "#ANSWER OF 4\n",
        "def longestcommonprefix():\n",
        " list = [\"micheal\",\"michelle\",\"mitch\"]\n",
        " list = sorted(list)\n",
        "\n",
        " short=list[0]\n",
        " pre=\"\"\n",
        "\n",
        " for i in range(len(list[0])):\n",
        "    if list[len(list)-1][i] == short[i]:\n",
        "        pre = pre + list[len(list)-1][i]\n",
        "    elif(pre==0):\n",
        "        print(\" \")\n",
        "    else:\n",
        "        break\n",
        " print(pre.strip())\n",
        "\n",
        "longestcommonprefix()"
      ],
      "metadata": {
        "colab": {
          "base_uri": "https://localhost:8080/"
        },
        "id": "NQEidQO6_wan",
        "outputId": "fc5d502f-913b-497b-bbb4-8924686a3c1e"
      },
      "execution_count": null,
      "outputs": [
        {
          "output_type": "stream",
          "name": "stdout",
          "text": [
            "mi\n"
          ]
        }
      ]
    },
    {
      "cell_type": "code",
      "source": [
        "#ANSWER OF 5\n",
        "import math\n",
        "\n",
        "n = int(input(\"Enter the number of terms: \"))\n",
        "pi = 0\n",
        "for i in range(n):\n",
        " term = ((-1) ** i) * (4 / (2 * i + 1))\n",
        " pi += term\n",
        "print(\"The calculated value of pi =\", pi)\n",
        "print(\"Actual value of pi =\", math.pi)\n",
        "print(\"Difference between them =\", math.pi - pi)\n"
      ],
      "metadata": {
        "id": "lvjrtvh6A5EU",
        "colab": {
          "base_uri": "https://localhost:8080/"
        },
        "outputId": "dce0d838-ebee-4480-e79e-ff11d7c2770c"
      },
      "execution_count": 44,
      "outputs": [
        {
          "output_type": "stream",
          "name": "stdout",
          "text": [
            "Enter the number of terms: 456\n",
            "The calculated value of pi = 3.1393996737702463\n",
            "Actual value of pi = 3.141592653589793\n",
            "Difference between them = 0.002192979819546803\n"
          ]
        }
      ]
    },
    {
      "cell_type": "code",
      "source": [
        "#ANSWER OF 6\n",
        "import math\n",
        "\n",
        "def newtonsMethod(x, iteration):\n",
        "    i=1;\n",
        "    guess = x/2;\n",
        "    while i <= iteration:\n",
        "        guess = (guess + (x/guess)) / 2.0\n",
        "        i+=1\n",
        "    return guess\n",
        "\n",
        "result = newtonsMethod(32, 8);\n",
        "print (result,'\\nDifference with square root of X: ', result - (math.sqrt(16)))\n"
      ],
      "metadata": {
        "colab": {
          "base_uri": "https://localhost:8080/"
        },
        "id": "r8v3TK35_2rs",
        "outputId": "d5435e4b-fcbd-4b09-eb2f-08934db3d5c5"
      },
      "execution_count": 45,
      "outputs": [
        {
          "output_type": "stream",
          "name": "stdout",
          "text": [
            "5.65685424949238 \n",
            "Difference with square root of X:  1.6568542494923797\n"
          ]
        }
      ]
    }
  ]
}