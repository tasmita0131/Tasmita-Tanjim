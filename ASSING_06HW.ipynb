{
  "nbformat": 4,
  "nbformat_minor": 0,
  "metadata": {
    "colab": {
      "provenance": [],
      "collapsed_sections": [],
      "authorship_tag": "ABX9TyNYGQnMX1q4KhPvsnCPkeK0",
      "include_colab_link": true
    },
    "kernelspec": {
      "name": "python3",
      "display_name": "Python 3"
    },
    "language_info": {
      "name": "python"
    }
  },
  "cells": [
    {
      "cell_type": "markdown",
      "metadata": {
        "id": "view-in-github",
        "colab_type": "text"
      },
      "source": [
        "<a href=\"https://colab.research.google.com/github/tasmita0131/Tasmita-Tanjim/blob/main/ASSING_06HW.ipynb\" target=\"_parent\"><img src=\"https://colab.research.google.com/assets/colab-badge.svg\" alt=\"Open In Colab\"/></a>"
      ]
    },
    {
      "cell_type": "code",
      "execution_count": null,
      "metadata": {
        "colab": {
          "base_uri": "https://localhost:8080/"
        },
        "id": "DCUVJA3fmoKO",
        "outputId": "964483f6-5b61-4d4b-9bbb-1180e6afdba5"
      },
      "outputs": [
        {
          "output_type": "stream",
          "name": "stdout",
          "text": [
            "Input the number :12\n",
            "The sum of prime numbers of the even number: 7 + 5 = 12\n"
          ]
        }
      ],
      "source": [
        "#ANSWER OF 1\n",
        "n=eval(input('Input the number :'))\n",
        "def prime(n):\n",
        "  check=0\n",
        "  sum=0\n",
        "  for i in range(2,n):\n",
        "    if(n%i == 0):\n",
        "      check=1\n",
        "    else:\n",
        "      sum=sum+i\n",
        "      if(sum == n):\n",
        "       print('The sum of prime numbers of the even number: ',end=\"\")\n",
        "       print(i,'+',i-2,'=',n)\n",
        "\n",
        "if(n%2 == 0):\n",
        " prime(n)"
      ]
    },
    {
      "cell_type": "code",
      "source": [
        "#ANSWER OF 2\n",
        "lst=[1,0,3,0,4]\n",
        "def move_zero(lst):\n",
        "  cnt=0             \n",
        "  while(lst.count(0)): \n",
        "      cnt+=1\n",
        "      lst.remove(0)\n",
        "      \n",
        "  for k in range(0,cnt):\n",
        "            lst.append(0)\n",
        "  print(lst)\n",
        "move_zero(lst)"
      ],
      "metadata": {
        "colab": {
          "base_uri": "https://localhost:8080/"
        },
        "id": "fYUNbXtkmw4B",
        "outputId": "e5335216-d513-4b00-ab49-24f5ce79c866"
      },
      "execution_count": null,
      "outputs": [
        {
          "output_type": "stream",
          "name": "stdout",
          "text": [
            "[1, 3, 4, 0, 0]\n"
          ]
        }
      ]
    },
    {
      "cell_type": "code",
      "source": [
        "#ANSWER OF 3\n",
        "pattern=str(input('Input the pattern : '))\n",
        "line=str(input('Input the line to compare : '))\n",
        "new_str=line.split()\n",
        "dict={}\n",
        "temp = []\n",
        "dict[pattern[0]] = new_str[0]\n",
        "\n",
        "if(len(pattern) == len(new_str)):\n",
        "    for i in range(0,4,1):      #for comparing every pattern's index\n",
        "        for j in range(i+1,4,1):\n",
        "            if(pattern[i] == pattern[j]):\n",
        "                continue;\n",
        "            else:\n",
        "                if(new_str[j] not in dict.values()):\n",
        "                    dict[pattern[j]] = new_str[j]\n",
        "\n",
        "    for i in pattern:\n",
        "        if(i in dict.keys()):\n",
        "            temp.append(dict[i])\n",
        "\n",
        "    #print(temp)\n",
        "\n",
        "if(temp == new_str):\n",
        "    print(True)\n",
        "else:\n",
        "    print(False)"
      ],
      "metadata": {
        "colab": {
          "base_uri": "https://localhost:8080/"
        },
        "id": "YKbCxSUumzsX",
        "outputId": "e3015c79-f01e-41a5-aea4-ebaa99b242ea"
      },
      "execution_count": null,
      "outputs": [
        {
          "output_type": "stream",
          "name": "stdout",
          "text": [
            "Input the pattern : abcd\n",
            "Input the line to compare : tarana is a girl\n",
            "True\n"
          ]
        }
      ]
    }
  ]
}