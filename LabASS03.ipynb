{
  "nbformat": 4,
  "nbformat_minor": 0,
  "metadata": {
    "colab": {
      "provenance": [],
      "collapsed_sections": [],
      "authorship_tag": "ABX9TyN+z2B2uIAR9qpbFGyV7apI",
      "include_colab_link": true
    },
    "kernelspec": {
      "name": "python3",
      "display_name": "Python 3"
    },
    "language_info": {
      "name": "python"
    }
  },
  "cells": [
    {
      "cell_type": "markdown",
      "metadata": {
        "id": "view-in-github",
        "colab_type": "text"
      },
      "source": [
        "<a href=\"https://colab.research.google.com/github/tasmita0131/Tasmita-Tanjim/blob/main/LabASS03.ipynb\" target=\"_parent\"><img src=\"https://colab.research.google.com/assets/colab-badge.svg\" alt=\"Open In Colab\"/></a>"
      ]
    },
    {
      "cell_type": "code",
      "execution_count": 19,
      "metadata": {
        "id": "sOJgRGOtJRkX",
        "colab": {
          "base_uri": "https://localhost:8080/"
        },
        "outputId": "d63622ff-fa88-4ac4-8568-5f25dfd8225a"
      },
      "outputs": [
        {
          "name": "stdout",
          "output_type": "stream",
          "text": [
            "The first number :1\n",
            "The second number :1\n",
            "The third number :1\n"
          ]
        },
        {
          "output_type": "execute_result",
          "data": {
            "text/plain": [
              "False"
            ]
          },
          "metadata": {},
          "execution_count": 19
        }
      ],
      "source": [
        "#ANSWER OF 1\n",
        "a=eval(input('The first number :'))\n",
        "b=eval(input('The second number :'))\n",
        "c=eval(input('The third number :'))\n",
        "def is_equal(a,b,c):\n",
        " if(a==b and b!=c):\n",
        "  return True\n",
        " elif(a==c and a!=b):\n",
        "  return True\n",
        " elif(b==c and b!=a):\n",
        "  return True\n",
        " elif(a!=c and b!=c):\n",
        "  return False\n",
        " elif(a==c and b==c):\n",
        "  return False\n",
        " else:\n",
        "   return False\n",
        "\n",
        "is_equal(a,b,c)\n"
      ]
    },
    {
      "cell_type": "code",
      "source": [
        "#ANSWER OF 2\n",
        "a=eval(input('The first number :'))\n",
        "b=eval(input('The second number :'))\n",
        "c=eval(input('The third number :'))\n",
        "def diff(a,b,c):\n",
        " if(abs(a-b)==c or abs(b-c)==a or abs(a-c)==b):\n",
        "   return True\n",
        " elif((a-b)==c or (b-c)==a or (a-c)==b):\n",
        "   return True\n",
        " else:\n",
        "   return False\n",
        "diff(a,b,c)"
      ],
      "metadata": {
        "colab": {
          "base_uri": "https://localhost:8080/"
        },
        "id": "P9xVtN3JVQ3A",
        "outputId": "05352e6c-fa35-4679-f329-2f6dd6b1ff5e"
      },
      "execution_count": 31,
      "outputs": [
        {
          "name": "stdout",
          "output_type": "stream",
          "text": [
            "The first number :10\n",
            "The second number :6\n",
            "The third number :3\n"
          ]
        },
        {
          "output_type": "execute_result",
          "data": {
            "text/plain": [
              "False"
            ]
          },
          "metadata": {},
          "execution_count": 31
        }
      ]
    },
    {
      "cell_type": "code",
      "source": [
        "#ANSWER OF 3\n",
        "a=eval(input('The first number :'))\n",
        "b=eval(input('The second number :'))\n",
        "def is_factor(a,b):\n",
        "  if(a!=0 and b!=0 and b%a==0 ):\n",
        "    return True\n",
        "  elif(a!=0 and b!=0 and a%b==0 ):\n",
        "    return True\n",
        "  elif(a==0 and b==0):\n",
        "    print('False')\n",
        "  else:\n",
        "    return False\n",
        "is_factor(a,b)\n"
      ],
      "metadata": {
        "colab": {
          "base_uri": "https://localhost:8080/"
        },
        "id": "BXisVA2vbQ8F",
        "outputId": "691ba499-012e-4e1a-8abc-76e69ae4f6d2"
      },
      "execution_count": 60,
      "outputs": [
        {
          "name": "stdout",
          "output_type": "stream",
          "text": [
            "The first number :6\n",
            "The second number :3\n"
          ]
        },
        {
          "output_type": "execute_result",
          "data": {
            "text/plain": [
              "True"
            ]
          },
          "metadata": {},
          "execution_count": 60
        }
      ]
    },
    {
      "cell_type": "code",
      "source": [
        "#ANSWER OF 4\n",
        "n=eval(input('Enter the number :'))\n",
        "def factor(n):\n",
        "  for i in range(n,0,-1):\n",
        "    if(n%i==0):\n",
        "      print(i)\n",
        "factor(n)\n"
      ],
      "metadata": {
        "colab": {
          "base_uri": "https://localhost:8080/"
        },
        "id": "KXMbazKKd7vL",
        "outputId": "bab5324c-3b95-4a02-903e-7e6185ab3578"
      },
      "execution_count": 107,
      "outputs": [
        {
          "output_type": "stream",
          "name": "stdout",
          "text": [
            "Enter the number :7\n",
            "7\n",
            "1\n"
          ]
        }
      ]
    },
    {
      "cell_type": "code",
      "source": [
        "#ANSWER OF 5\n",
        "n=eval(input('Enter the number :'))\n",
        "def lrgst_fact(n):\n",
        "   for i in range(n-1,0,-1):\n",
        "        if(n%i==0):\n",
        "          return i\n",
        "lrgst_fact(n)\n"
      ],
      "metadata": {
        "colab": {
          "base_uri": "https://localhost:8080/"
        },
        "id": "3AGGxvnNpqE0",
        "outputId": "03e46a91-5ec4-4154-8552-09547b15fac0"
      },
      "execution_count": 111,
      "outputs": [
        {
          "name": "stdout",
          "output_type": "stream",
          "text": [
            "Enter the number :15\n"
          ]
        },
        {
          "output_type": "execute_result",
          "data": {
            "text/plain": [
              "5"
            ]
          },
          "metadata": {},
          "execution_count": 111
        }
      ]
    }
  ]
}