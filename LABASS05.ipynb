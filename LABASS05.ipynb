{
  "nbformat": 4,
  "nbformat_minor": 0,
  "metadata": {
    "colab": {
      "provenance": [],
      "collapsed_sections": [],
      "authorship_tag": "ABX9TyNyCPKzfZMX9mvCOrgKnRPm",
      "include_colab_link": true
    },
    "kernelspec": {
      "name": "python3",
      "display_name": "Python 3"
    },
    "language_info": {
      "name": "python"
    }
  },
  "cells": [
    {
      "cell_type": "markdown",
      "metadata": {
        "id": "view-in-github",
        "colab_type": "text"
      },
      "source": [
        "<a href=\"https://colab.research.google.com/github/tasmita0131/Tasmita-Tanjim/blob/main/LABASS05.ipynb\" target=\"_parent\"><img src=\"https://colab.research.google.com/assets/colab-badge.svg\" alt=\"Open In Colab\"/></a>"
      ]
    },
    {
      "cell_type": "code",
      "execution_count": null,
      "metadata": {
        "colab": {
          "base_uri": "https://localhost:8080/"
        },
        "id": "_pcFMk0UapkY",
        "outputId": "36d8ba88-7dbd-4ca4-f59a-d9c8d6d8baeb"
      },
      "outputs": [
        {
          "output_type": "stream",
          "name": "stdout",
          "text": [
            "Tell us the number : 29\n",
            "The number is a prime number\n"
          ]
        }
      ],
      "source": [
        "#ANSWER OF 1\n",
        "import math\n",
        "m=eval(input('Tell us the number : '))\n",
        "def is_prime(m):\n",
        "  check=0\n",
        "  x=math.sqrt(m)\n",
        "  if(m==2):\n",
        "    check=0\n",
        "  elif(m%2==0 and m!=2):\n",
        "     check=1\n",
        "  else:\n",
        "    for i in range(3,int(x+1),2):\n",
        "      if(m%i==0):\n",
        "        check=1\n",
        "        break\n",
        "  if(check==1):\n",
        "      print('The number is not a prime number')\n",
        "  else:\n",
        "    print('The number is a prime number')\n",
        "\n",
        "is_prime(m)"
      ]
    },
    {
      "cell_type": "code",
      "source": [
        "#ANSWER OF 2\n",
        "x=input('Tell us the sentence : ')\n",
        "words=0\n",
        "s=x.split(\" \")\n",
        "for i in s:\n",
        "    if i.isalpha():\n",
        "        words+=1\n",
        "print('There are total',words, 'words')"
      ],
      "metadata": {
        "colab": {
          "base_uri": "https://localhost:8080/"
        },
        "id": "7V2aM00wewmc",
        "outputId": "e1c4f32f-ffaf-45aa-a793-8714277f774e"
      },
      "execution_count": null,
      "outputs": [
        {
          "output_type": "stream",
          "name": "stdout",
          "text": [
            "Tell us the sentence : tanha is a brave girl\n",
            "There are total 5 words\n"
          ]
        }
      ]
    },
    {
      "cell_type": "code",
      "source": [
        "#ANSWER OF 3\n",
        "x=input('Tell us the sentence : ')  #x==>sentence\n",
        "length=0  \n",
        "words=0\n",
        "average=0\n",
        "s=x.split(\" \")\n",
        "for i in s:\n",
        "    if i.isalpha():\n",
        "      length=length+int(len(i))\n",
        "      words=words+1\n",
        "average=float(length/words)\n",
        "print(average)\n"
      ],
      "metadata": {
        "colab": {
          "base_uri": "https://localhost:8080/"
        },
        "id": "dgUJDenchdaX",
        "outputId": "7d57e794-6342-4961-8c8b-c303b370cf87"
      },
      "execution_count": null,
      "outputs": [
        {
          "output_type": "stream",
          "name": "stdout",
          "text": [
            "Tell us the sentence : Alex sir is a good teacher\n",
            "3.5\n"
          ]
        }
      ]
    },
    {
      "cell_type": "code",
      "source": [
        "#ANSWER OF 4\n",
        "n=eval(input('Input the first number : '))\n",
        "k=eval(input('Input the second number : '))\n",
        "def choose(n,k):\n",
        "    cnt=1\n",
        "    i=n\n",
        "    while(i>=((n-k)+1)):\n",
        "     cnt=cnt*i\n",
        "     i=i-1\n",
        "    \n",
        "    fact=1 \n",
        "    j=k  \n",
        "    while(j>=1):\n",
        "     fact=fact*j\n",
        "     j=j-1\n",
        "    print(int(cnt/fact))\n",
        "choose(n,k)\n"
      ],
      "metadata": {
        "colab": {
          "base_uri": "https://localhost:8080/"
        },
        "id": "zEAUTb-QhXBc",
        "outputId": "13209f93-da0e-4a31-e0d6-542bee09622c"
      },
      "execution_count": null,
      "outputs": [
        {
          "output_type": "stream",
          "name": "stdout",
          "text": [
            "Input the first number : 20\n",
            "Input the second number : 6\n",
            "38760\n"
          ]
        }
      ]
    },
    {
      "cell_type": "code",
      "source": [
        "#ANSWER OF 5\n",
        "import math\n",
        "a=eval(input('Input the first number : '))\n",
        "b=eval(input('Input the second number : '))\n",
        "GCD=0\n",
        "multi=0\n",
        "def multiple(a,b):\n",
        "      GCD=(math.gcd(a,b))\n",
        "      multi=(a*b)/GCD\n",
        "      print(int(multi))\n",
        "    \n",
        "multiple(a,b)"
      ],
      "metadata": {
        "id": "NLGD6v7mm1Fo",
        "colab": {
          "base_uri": "https://localhost:8080/"
        },
        "outputId": "964ee2d0-a212-4607-e413-c5f58cfcf201"
      },
      "execution_count": 5,
      "outputs": [
        {
          "output_type": "stream",
          "name": "stdout",
          "text": [
            "Input the first number : 14\n",
            "Input the second number : 21\n",
            "42\n"
          ]
        }
      ]
    }
  ]
}