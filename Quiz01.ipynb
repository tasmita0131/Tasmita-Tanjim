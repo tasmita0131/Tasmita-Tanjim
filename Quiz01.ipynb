{
  "nbformat": 4,
  "nbformat_minor": 0,
  "metadata": {
    "colab": {
      "provenance": [],
      "authorship_tag": "ABX9TyOE+CctpYClon///+u+iMIL",
      "include_colab_link": true
    },
    "kernelspec": {
      "name": "python3",
      "display_name": "Python 3"
    },
    "language_info": {
      "name": "python"
    }
  },
  "cells": [
    {
      "cell_type": "markdown",
      "metadata": {
        "id": "view-in-github",
        "colab_type": "text"
      },
      "source": [
        "<a href=\"https://colab.research.google.com/github/tasmita0131/Tasmita-Tanjim/blob/main/Quiz01.ipynb\" target=\"_parent\"><img src=\"https://colab.research.google.com/assets/colab-badge.svg\" alt=\"Open In Colab\"/></a>"
      ]
    },
    {
      "cell_type": "code",
      "execution_count": 1,
      "metadata": {
        "colab": {
          "base_uri": "https://localhost:8080/"
        },
        "id": "WjGBO-kOp_l3",
        "outputId": "57369db0-6864-48f3-8f69-648e44051960"
      },
      "outputs": [
        {
          "name": "stdout",
          "output_type": "stream",
          "text": [
            "Tell me the number :78910\n"
          ]
        },
        {
          "output_type": "execute_result",
          "data": {
            "text/plain": [
              "7"
            ]
          },
          "metadata": {},
          "execution_count": 1
        }
      ],
      "source": [
        "lst=eval(input('Tell me the number :'))\n",
        "def f(lst):\n",
        "  sum=0\n",
        "  rem=0  #remainder\n",
        "  while(lst>0):\n",
        "    rem=int(lst%10)  # everytime we  get the remainder like 78910%10==0 \n",
        "    sum=sum+rem      #then we keep the remainder in the sum\n",
        "    lst=int(lst/10)      #lst is getting changed,for example, firstly is was 78910 then dividing it by 10,we get 7891\n",
        "    \n",
        "  if(sum>9):\n",
        "   return f(sum) #we are returning the sum of the function if it is a single digit\n",
        "\n",
        "  return sum\n",
        "\n",
        "f(lst)"
      ]
    }
  ]
}