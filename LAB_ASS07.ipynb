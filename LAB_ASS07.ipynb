{
  "nbformat": 4,
  "nbformat_minor": 0,
  "metadata": {
    "colab": {
      "provenance": [],
      "collapsed_sections": [],
      "authorship_tag": "ABX9TyPmzioiG/+5WcPSD710zc5R",
      "include_colab_link": true
    },
    "kernelspec": {
      "name": "python3",
      "display_name": "Python 3"
    },
    "language_info": {
      "name": "python"
    }
  },
  "cells": [
    {
      "cell_type": "markdown",
      "metadata": {
        "id": "view-in-github",
        "colab_type": "text"
      },
      "source": [
        "<a href=\"https://colab.research.google.com/github/tasmita0131/Tasmita-Tanjim/blob/main/LAB_ASS07.ipynb\" target=\"_parent\"><img src=\"https://colab.research.google.com/assets/colab-badge.svg\" alt=\"Open In Colab\"/></a>"
      ]
    },
    {
      "cell_type": "code",
      "execution_count": null,
      "metadata": {
        "colab": {
          "base_uri": "https://localhost:8080/"
        },
        "id": "05beg0ropgzt",
        "outputId": "9c93fca6-2cd4-4adb-c669-db40bb43ef83"
      },
      "outputs": [
        {
          "output_type": "stream",
          "name": "stdout",
          "text": [
            "Input number of darts : 1000\n",
            "Estimated value of pi : 3.142184\n"
          ]
        }
      ],
      "source": [
        "#ANS OF 1\n",
        "import random\n",
        "darts=eval(input('Input number of darts : '))\n",
        "cir_point=0\n",
        "sqr_point=0\n",
        "n=4\n",
        "for i in range(darts**2):\n",
        "  x=2*random.random()-1        #finding the random values of x and y \n",
        "  y=2*random.random()-1                                      \n",
        "\n",
        "  dist= x**2 + y**2           #distance_from_origin\n",
        "  if( dist<1):                 #check whether (x,y) is within the circle or not\n",
        "    cir_point+=1              #if yes increment the value fo circle point\n",
        "  \n",
        "  sqr_point+=1\n",
        "  h= n *(cir_point/sqr_point) #estimate the value of pi, where h=pi\n",
        "\n",
        "print('Estimated value of pi :',h)"
      ]
    },
    {
      "cell_type": "code",
      "source": [
        "#ANS OF 2\n",
        "import random\n",
        "import matplotlib.pyplot as plt\n",
        "import numpy as np\n",
        "def random_walk(n):\n",
        "  x,y=0,0\n",
        "  timepoints=np.arange(n+1)    #generating numbers from 0 to 1000,total steps.\n",
        "  positions=[y]                #initial value of y=0\n",
        "  instructions=['head','tail'] #two sides of the coin\n",
        "\n",
        "  for i in range(1,n+1):        #loop will iterate from 1 to 1000\n",
        "    step=random.choice(instructions)\n",
        "    if(step =='head'):  \n",
        "     y+=1                       #incrementing the value of y if it is a head\n",
        "    else:\n",
        "      y-=1\n",
        "    positions.append(y)   #appending the position of y as y is getting changed everytime\n",
        "  print('The approximate difference between starting and ending point :',positions[len(positions)-1]-1)\n",
        "  return timepoints,positions \n",
        "  \n",
        "\n",
        "time,data = random_walk(1000)\n",
        "plt.plot(time,data,'b-',label='Randomwalk1D') #b means the color will be blue\n",
        "plt.title('1D Random Walk Depending on Coin')\n",
        "plt.show()"
      ],
      "metadata": {
        "id": "2VtpgPfV_3Z8",
        "colab": {
          "base_uri": "https://localhost:8080/",
          "height": 298
        },
        "outputId": "7aaeac11-0b14-45b5-8404-102f094e01c4"
      },
      "execution_count": 23,
      "outputs": [
        {
          "output_type": "stream",
          "name": "stdout",
          "text": [
            "The approximate difference between starting and ending point : 29\n"
          ]
        },
        {
          "output_type": "display_data",
          "data": {
            "text/plain": [
              "<Figure size 432x288 with 1 Axes>"
            ],
            "image/png": "[encoded data removed]"
          },
          "metadata": {
            "needs_background": "light"
          }
        }
      ]
    }
  ]
}