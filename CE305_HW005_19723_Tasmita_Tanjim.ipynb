{
  "nbformat": 4,
  "nbformat_minor": 0,
  "metadata": {
    "colab": {
      "provenance": [],
      "authorship_tag": "ABX9TyNO64XH9spahGLFgiZOMyZm",
      "include_colab_link": true
    },
    "kernelspec": {
      "name": "python3",
      "display_name": "Python 3"
    },
    "language_info": {
      "name": "python"
    }
  },
  "cells": [
    {
      "cell_type": "markdown",
      "metadata": {
        "id": "view-in-github",
        "colab_type": "text"
      },
      "source": [
        "<a href=\"https://colab.research.google.com/github/tasmita0131/Tasmita-Tanjim/blob/main/CE305_HW005_19723_Tasmita_Tanjim.ipynb\" target=\"_parent\"><img src=\"https://colab.research.google.com/assets/colab-badge.svg\" alt=\"Open In Colab\"/></a>"
      ]
    },
    {
      "cell_type": "code",
      "source": [
        "#ANSWER OF 1\n",
        "\n",
        "def store(storage_dict, data):\n",
        "    # Adds or updates data in the given storage dictionary\n",
        "    storage_dict.update(data)\n",
        "    return storage_dict\n",
        "\n",
        "def imm_load_ac(value):\n",
        "    # Directly returns the provided value (immediate addressing mode)\n",
        "    return value\n",
        "\n",
        "def dir_load_ac(data_storage, address):\n",
        "    # Retrieves a value from data_storage using the provided address (direct addressing mode)\n",
        "    return data_storage[address]\n",
        "\n",
        "def indir_load_ac(data_storage, pointer):\n",
        "    # Retrieves the address stored at 'pointer' and then fetches the value from that address (indirect addressing mode)\n",
        "    actual_address = data_storage[pointer]\n",
        "    return data_storage[actual_address]\n",
        "\n",
        "def idx_load_ac(data_storage, index, base):\n",
        "    # Calculates the final address by adding base and index, then fetches the value (indexed addressing mode)\n",
        "    final_address = base + index\n",
        "    return data_storage.get(final_address, None)\n",
        "\n",
        "# Initializing and populating a new memory storage\n",
        "memory_store = {}\n",
        "memory_store = store(memory_store, {800: 123})    # memory_store = {800: 123}\n",
        "memory_store = store(memory_store, {900: 1000})   # memory_store = {800: 123, 900: 1000}\n",
        "memory_store = store(memory_store, {800: 900})    # memory_store = {800: 900, 900: 1000}\n",
        "memory_store = store(memory_store, {1500: 700})   # memory_store = {800: 900, 900: 1000, 1500: 700}\n",
        "\n",
        "# Loading values into accumulator using different addressing modes\n",
        "accumulator_imm = imm_load_ac(800)                  # accumulator = 800\n",
        "accumulator_dir = dir_load_ac(memory_store, 800)    # accumulator = 900\n",
        "accumulator_indir = indir_load_ac(memory_store, 800) # accumulator = 1000\n",
        "index_value = 700\n",
        "accumulator_idx = idx_load_ac(memory_store, index_value, 800)  # accumulator = None\n",
        "\n",
        "\n",
        "# Enhanced print statements for output\n",
        "print(\"Accumulator Value (Immediate Addressing):\",accumulator_imm)\n",
        "print(\"Accumulator Value (Direct Addressing):\",accumulator_dir)\n",
        "print(\"Accumulator Value (Indirect Addressing):\",accumulator_indir)\n",
        "print(f\"Accumulator Value (Indexed Addressing): {'Value not found' if accumulator_idx is None else accumulator_idx}\")\n"
      ],
      "metadata": {
        "colab": {
          "base_uri": "https://localhost:8080/"
        },
        "id": "e9YkzA-xFUjC",
        "outputId": "1c2b0ce4-9d63-4aa8-d6d5-226f135b3fb2"
      },
      "execution_count": null,
      "outputs": [
        {
          "output_type": "stream",
          "name": "stdout",
          "text": [
            "Accumulator Value (Immediate Addressing): 800\n",
            "Accumulator Value (Direct Addressing): 900\n",
            "Accumulator Value (Indirect Addressing): 1000\n",
            "Accumulator Value (Indexed Addressing): 700\n"
          ]
        }
      ]
    },
    {
      "cell_type": "code",
      "source": [
        "#ANSWER OF 2\n",
        "\n",
        "# Function to update the contents of the main memory.\n",
        "# It takes the existing memory dictionary and a new data dictionary to update the memory.\n",
        "def update_main_memory(memory, data):\n",
        "    memory.update(data)  # Merge the new data into the existing memory.\n",
        "    return memory\n",
        "\n",
        "# Function to map a block of data from main memory into the cache.\n",
        "# It updates the cache with the data block corresponding to the given address.\n",
        "def map_block_to_cache(cache, address, main_memory):\n",
        "    # Split the address into tag, block, and offset parts.\n",
        "    tag, block, offset = address[:7], address[7:11], address[11:]\n",
        "    # Retrieve the corresponding block data from main memory.\n",
        "    data = main_memory.get(address[:11] + '000', None)\n",
        "\n",
        "    # If the data exists, update the cache with the tag, data, and set the valid bit to 1.\n",
        "    if data is not None:\n",
        "        cache[block] = [tag, data, 1]\n",
        "\n",
        "    return cache\n",
        "\n",
        "# Function to determine if an address results in a cache hit or miss.\n",
        "# It compares the tag of the given address with the tag in the cache.\n",
        "def check_cache_hit_or_miss(cache, address):\n",
        "    # Extract the tag, block, and offset from the address.\n",
        "    tag, block, offset = address[:7], address[7:11], address[11:]\n",
        "    # Retrieve the cache entry for the block.\n",
        "    cache_entry = cache.get(block, None)\n",
        "\n",
        "    # Check if the cache entry is valid and the tags match to determine a hit or miss.\n",
        "    if cache_entry and cache_entry[0] == tag and cache_entry[2] == 1:\n",
        "        return \"Cache Hit\"\n",
        "    else:\n",
        "        return \"Cache Miss\"\n",
        "\n",
        "# Example usage of the functions to demonstrate cache mapping and hit/miss checking.\n",
        "\n",
        "# Initialize an empty main memory.\n",
        "initial_memory = {}\n",
        "# Update main memory with sample data blocks.\n",
        "main_memory = update_main_memory(initial_memory, {\"00000110101000\": [0, 1, 2, 3, 4, 5, 6, 7]})\n",
        "main_memory = update_main_memory(main_memory, {\"00001110101000\": [10, 11, 12, 13, 14, 15, 16, 17]})\n",
        "main_memory = update_main_memory(main_memory, {\"00001110111000\": [20, 21, 22, 23, 24, 25, 26, 27]})\n",
        "\n",
        "# Initialize the cache with default values.\n",
        "cache = {f\"{i:04b}\": [\"0000000\", [0, 0, 0, 0, 0, 0, 0, 0], 0] for i in range(16)}\n",
        "\n",
        "# Define sample addresses to be checked.\n",
        "address1 = \"00000110101010\"  # Address 1AA in Hex\n",
        "address2 = \"00001110101010\"  # Address 3AA in Hex\n",
        "address3 = \"00001110111111\"  # Address 3BF in Hex\n",
        "\n",
        "# Map data to cache and check the cache hit/miss status for each address.\n",
        "cache = map_block_to_cache(cache, address2, main_memory)\n",
        "cache = map_block_to_cache(cache, address1, main_memory)\n",
        "cache = map_block_to_cache(cache, address3, main_memory)\n",
        "\n",
        "hit_miss1 = check_cache_hit_or_miss(cache, address1)\n",
        "hit_miss2 = check_cache_hit_or_miss(cache, address2)\n",
        "hit_miss3 = check_cache_hit_or_miss(cache, address3)\n",
        "\n",
        "# Print the cache status for each address.\n",
        "print(\"Cache Status for Address 1AA:\", hit_miss1)\n",
        "print(\"Cache Status for Address 3AA:\", hit_miss2)\n",
        "print(\"Cache Status for Address 3BF:\", hit_miss3)\n"
      ],
      "metadata": {
        "colab": {
          "base_uri": "https://localhost:8080/"
        },
        "id": "XHLRT_ipgIjp",
        "outputId": "08859559-5813-4ec2-d7bf-c54e26e8bcd4"
      },
      "execution_count": 4,
      "outputs": [
        {
          "output_type": "stream",
          "name": "stdout",
          "text": [
            "Cache Status for Address 1AA: Cache Hit\n",
            "Cache Status for Address 3AA: Cache Miss\n",
            "Cache Status for Address 3BF: Cache Hit\n"
          ]
        }
      ]
    },
    {
      "cell_type": "code",
      "source": [
        "#ANSWER OF 3\n",
        "\n",
        "def store(storage, elm):\n",
        "    \"\"\"\n",
        "    Updates the storage with the provided element(s).\n",
        "    Args:\n",
        "    storage: The storage dictionary to be updated.\n",
        "    elm: The element(s) to be added or updated in the storage.\n",
        "    Returns:\n",
        "    Updated storage dictionary.\n",
        "    \"\"\"\n",
        "    storage.update(elm)\n",
        "    return storage\n",
        "\n",
        "def fully_assoc_cache_map(cache, mem, address):\n",
        "\n",
        "    tag, word = address[:11], address[11:]  # Splitting the address into tag and word parts\n",
        "\n",
        "    # Check for the block in the cache\n",
        "    for block in cache.values():\n",
        "        if block[0] == tag and block[2] == 1:  # If tag matches and valid bit is set\n",
        "            return cache  # Block is already in the cache\n",
        "\n",
        "    # Find an empty cache line\n",
        "    for block_label, block_content in cache.items():\n",
        "        if block_content[2] == 0:  # If valid bit is 0, indicating empty line\n",
        "            cache[block_label] = [tag, mem[address], 1]  # Set valid bit to 1\n",
        "            return cache\n",
        "\n",
        "    # Replace the first block if no empty line is found\n",
        "    first_block_label = list(cache.keys())[0]\n",
        "    cache[first_block_label] = [tag, mem[address], 1]\n",
        "\n",
        "    return cache\n",
        "\n",
        "# Initialize main memory and store data\n",
        "init_mem = {}\n",
        "mem = store(init_mem, {\"00000110101000\": [0, 1, 2, 3, 4, 5, 6, 7]})\n",
        "mem = store(mem, {\"00001110101000\": [10, 11, 12, 13, 14, 15, 16, 17]})\n",
        "mem = store(mem, {\"00011110101000\": [20, 21, 22, 23, 24, 25, 26, 27]})\n",
        "mem = store(mem, {\"00111110101000\": [30, 31, 32, 33, 34, 35, 36, 37]})\n",
        "mem = store(mem, {\"01111110101000\": [40, 41, 42, 43, 44, 45, 46, 47]})\n",
        "\n",
        "# Initialize cache with empty blocks\n",
        "cache = {\n",
        "    \"blk0\": [\"00000000000\", [0, 0, 0, 0, 0, 0, 0, 0], 0],\n",
        "    \"blk1\": [\"00000000000\", [0, 0, 0, 0, 0, 0, 0, 0], 0],\n",
        "    \"blk2\": [\"00000000000\", [0, 0, 0, 0, 0, 0, 0, 0], 0],\n",
        "    \"blk3\": [\"00000000000\", [0, 0, 0, 0, 0, 0, 0, 0], 0]\n",
        "}\n",
        "\n",
        "# Mapping blocks from memory to cache\n",
        "addresses = [\"00000110101000\", \"00001110101000\", \"00011110101000\", \"00111110101000\", \"01111110101000\"]\n",
        "\n",
        "#using a for loop\n",
        "for addr in addresses:\n",
        "    cache = fully_assoc_cache_map(cache, mem, addr)\n",
        "\n",
        "# Enhanced print statements for the cache state\n",
        "print(\"Current Cache Configuration:\")\n",
        "for block_label, block_content in cache.items():\n",
        "    print(f\"{block_label}: Tag: {block_content[0]}, Data: {block_content[1]}, Valid Bit: {block_content[2]}\")\n"
      ],
      "metadata": {
        "colab": {
          "base_uri": "https://localhost:8080/"
        },
        "id": "Hdfkob1HGwt4",
        "outputId": "26c2dcca-8dd3-420b-c8d5-3243ad8ae763"
      },
      "execution_count": null,
      "outputs": [
        {
          "output_type": "stream",
          "name": "stdout",
          "text": [
            "Current Cache Configuration:\n",
            "blk0: Tag: 01111110101, Data: [40, 41, 42, 43, 44, 45, 46, 47], Valid Bit: 1\n",
            "blk1: Tag: 00001110101, Data: [10, 11, 12, 13, 14, 15, 16, 17], Valid Bit: 1\n",
            "blk2: Tag: 00011110101, Data: [20, 21, 22, 23, 24, 25, 26, 27], Valid Bit: 1\n",
            "blk3: Tag: 00111110101, Data: [30, 31, 32, 33, 34, 35, 36, 37], Valid Bit: 1\n"
          ]
        }
      ]
    },
    {
      "cell_type": "code",
      "source": [],
      "metadata": {
        "id": "jiulxKjcGw5S"
      },
      "execution_count": null,
      "outputs": []
    }
  ]
}