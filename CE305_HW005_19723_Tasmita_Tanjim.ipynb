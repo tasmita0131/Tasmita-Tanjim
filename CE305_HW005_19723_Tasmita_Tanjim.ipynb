{
  "nbformat": 4,
  "nbformat_minor": 0,
  "metadata": {
    "colab": {
      "provenance": [],
      "authorship_tag": "ABX9TyPmfwDv04/RI0H1jv2QSgkx",
      "include_colab_link": true
    },
    "kernelspec": {
      "name": "python3",
      "display_name": "Python 3"
    },
    "language_info": {
      "name": "python"
    }
  },
  "cells": [
    {
      "cell_type": "markdown",
      "metadata": {
        "id": "view-in-github",
        "colab_type": "text"
      },
      "source": [
        "<a href=\"https://colab.research.google.com/github/tasmita0131/Tasmita-Tanjim/blob/main/CE305_HW005_19723_Tasmita_Tanjim.ipynb\" target=\"_parent\"><img src=\"https://colab.research.google.com/assets/colab-badge.svg\" alt=\"Open In Colab\"/></a>"
      ]
    },
    {
      "cell_type": "code",
      "source": [
        "#ANSWER OF 1\n",
        "\n",
        "def store(storage_dict, data):\n",
        "    # Adds or updates data in the given storage dictionary\n",
        "    storage_dict.update(data)\n",
        "    return storage_dict\n",
        "\n",
        "def imm_load_ac(value):\n",
        "    # Directly returns the provided value (immediate addressing mode)\n",
        "    return value\n",
        "\n",
        "def dir_load_ac(data_storage, address):\n",
        "    # Retrieves a value from data_storage using the provided address (direct addressing mode)\n",
        "    return data_storage[address]\n",
        "\n",
        "def indir_load_ac(data_storage, pointer):\n",
        "    # Retrieves the address stored at 'pointer' and then fetches the value from that address (indirect addressing mode)\n",
        "    actual_address = data_storage[pointer]\n",
        "    return data_storage[actual_address]\n",
        "\n",
        "def idx_load_ac(data_storage, index, base):\n",
        "    # Calculates the final address by adding base and index, then fetches the value (indexed addressing mode)\n",
        "    final_address = base + index\n",
        "    return data_storage.get(final_address, None)\n",
        "\n",
        "# Initializing and populating a new memory storage\n",
        "memory_store = {}\n",
        "memory_store = store(memory_store, {800: 123})    # memory_store = {800: 123}\n",
        "memory_store = store(memory_store, {900: 1000})   # memory_store = {800: 123, 900: 1000}\n",
        "memory_store = store(memory_store, {800: 900})    # memory_store = {800: 900, 900: 1000}\n",
        "memory_store = store(memory_store, {1500: 700})   # memory_store = {800: 900, 900: 1000, 1500: 700}\n",
        "\n",
        "# Loading values into accumulator using different addressing modes\n",
        "accumulator_imm = imm_load_ac(800)                  # accumulator = 800\n",
        "accumulator_dir = dir_load_ac(memory_store, 800)    # accumulator = 900\n",
        "accumulator_indir = indir_load_ac(memory_store, 800) # accumulator = 1000\n",
        "index_value = 700\n",
        "accumulator_idx = idx_load_ac(memory_store, index_value, 800)  # accumulator = None\n",
        "\n",
        "\n",
        "# Enhanced print statements for output\n",
        "print(\"Accumulator Value (Immediate Addressing):\",accumulator_imm)\n",
        "print(\"Accumulator Value (Direct Addressing):\",accumulator_dir)\n",
        "print(\"Accumulator Value (Indirect Addressing):\",accumulator_indir)\n",
        "print(f\"Accumulator Value (Indexed Addressing): {'Value not found' if accumulator_idx is None else accumulator_idx}\")\n"
      ],
      "metadata": {
        "colab": {
          "base_uri": "https://localhost:8080/"
        },
        "id": "e9YkzA-xFUjC",
        "outputId": "1c2b0ce4-9d63-4aa8-d6d5-226f135b3fb2"
      },
      "execution_count": 5,
      "outputs": [
        {
          "output_type": "stream",
          "name": "stdout",
          "text": [
            "Accumulator Value (Immediate Addressing): 800\n",
            "Accumulator Value (Direct Addressing): 900\n",
            "Accumulator Value (Indirect Addressing): 1000\n",
            "Accumulator Value (Indexed Addressing): 700\n"
          ]
        }
      ]
    },
    {
      "cell_type": "code",
      "source": [
        "#ANSWER OF 2\n",
        "\n",
        "def store(memory, data):\n",
        "    # Update the memory with the provided data\n",
        "    memory.update(data)\n",
        "    return memory\n",
        "\n",
        "def dir_map_cache(cache_system, address, main_memory):\n",
        "\n",
        "    # Maps the address from main memory to the cache.\n",
        "    # The address is split into tag and block parts.\n",
        "    # The cache is updated if the address is in main memory.\n",
        "\n",
        "    tag_segment, block_segment = address[:7], address[7:11]\n",
        "    if address in main_memory:\n",
        "        # Updating the cache with the tag, value, and valid bit\n",
        "        cache_system[block_segment] = [tag_segment, main_memory[address], 1]\n",
        "    return cache_system\n",
        "\n",
        "def check_cache(cache_system, address):\n",
        "    \"\"\"\n",
        "    Checks for a cache hit or miss for a given address.\n",
        "    It compares the tag and valid bit in the cache.\n",
        "    \"\"\"\n",
        "    tag_segment, block_segment = address[:7], address[7:11]\n",
        "    if cache_system[block_segment][0] == tag_segment and cache_system[block_segment][2] == 1:\n",
        "        return \"Hit\"\n",
        "    return \"Miss\"\n",
        "\n",
        "# Initialize memory and cache\n",
        "memory = {}\n",
        "cache = {format(i, '04b'): [\"0000000\", [0] * 8, 0] for i in range(16)}\n",
        "\n",
        "# Test data\n",
        "data_a = {\"00000110101000\": [0, 1, 2, 3, 4, 5, 6, 7]}\n",
        "data_b = {\"00001110101000\": [10, 11, 12, 13, 14, 15, 16, 17]}\n",
        "data_c = {\"00001110111000\": [20, 21, 22, 23, 24, 25, 26, 27]}\n",
        "\n",
        "# Storing data in memory\n",
        "memory = store(memory, data_a)\n",
        "memory = store(memory, data_b)\n",
        "memory = store(memory, data_c)\n",
        "\n",
        "# Addresses for cache mapping\n",
        "address1 = \"00000110101010\"  # Hex: 1AA\n",
        "address2 = \"00001110101010\"  # Hex: 3AA\n",
        "address3 = \"00001110111111\"  # Hex: 7BF\n",
        "\n",
        "# Mapping addresses to cache\n",
        "cache = dir_map_cache(cache, address1, memory)\n",
        "cache = dir_map_cache(cache, address2, memory)\n",
        "cache = dir_map_cache(cache, address3, memory)\n",
        "\n",
        "# Checking cache hits or misses\n",
        "hit_or_miss1 = check_cache(cache, address1)\n",
        "hit_or_miss2 = check_cache(cache, address2)\n",
        "hit_or_miss3 = check_cache(cache, address3)\n",
        "\n",
        "# Enhanced print statements\n",
        "print(\"Current Cache State:\")\n",
        "print(cache)\n",
        "print(f\"Cache Access for Address {address1} (Hex: 1AA): {hit_or_miss1}\")\n",
        "print(f\"Cache Access for Address {address2} (Hex: 3AA): {hit_or_miss2}\")\n",
        "print(f\"Cache Access for Address {address3} (Hex: 7BF): {hit_or_miss3}\")\n"
      ],
      "metadata": {
        "colab": {
          "base_uri": "https://localhost:8080/"
        },
        "id": "GVKmoGdUFUpS",
        "outputId": "bfb30afc-2fcf-43fc-9b65-84c91709f7c1"
      },
      "execution_count": 6,
      "outputs": [
        {
          "output_type": "stream",
          "name": "stdout",
          "text": [
            "Current Cache State:\n",
            "{'0000': ['0000000', [0, 0, 0, 0, 0, 0, 0, 0], 0], '0001': ['0000000', [0, 0, 0, 0, 0, 0, 0, 0], 0], '0010': ['0000000', [0, 0, 0, 0, 0, 0, 0, 0], 0], '0011': ['0000000', [0, 0, 0, 0, 0, 0, 0, 0], 0], '0100': ['0000000', [0, 0, 0, 0, 0, 0, 0, 0], 0], '0101': ['0000000', [0, 0, 0, 0, 0, 0, 0, 0], 0], '0110': ['0000000', [0, 0, 0, 0, 0, 0, 0, 0], 0], '0111': ['0000000', [0, 0, 0, 0, 0, 0, 0, 0], 0], '1000': ['0000000', [0, 0, 0, 0, 0, 0, 0, 0], 0], '1001': ['0000000', [0, 0, 0, 0, 0, 0, 0, 0], 0], '1010': ['0000000', [0, 0, 0, 0, 0, 0, 0, 0], 0], '1011': ['0000000', [0, 0, 0, 0, 0, 0, 0, 0], 0], '1100': ['0000000', [0, 0, 0, 0, 0, 0, 0, 0], 0], '1101': ['0000000', [0, 0, 0, 0, 0, 0, 0, 0], 0], '1110': ['0000000', [0, 0, 0, 0, 0, 0, 0, 0], 0], '1111': ['0000000', [0, 0, 0, 0, 0, 0, 0, 0], 0]}\n",
            "Cache Access for Address 00000110101010 (Hex: 1AA): Miss\n",
            "Cache Access for Address 00001110101010 (Hex: 3AA): Miss\n",
            "Cache Access for Address 00001110111111 (Hex: 7BF): Miss\n"
          ]
        }
      ]
    },
    {
      "cell_type": "code",
      "source": [
        "#ANSWER OF 3\n",
        "\n",
        "def store(storage, elm):\n",
        "    \"\"\"\n",
        "    Updates the storage with the provided element(s).\n",
        "    Args:\n",
        "    storage: The storage dictionary to be updated.\n",
        "    elm: The element(s) to be added or updated in the storage.\n",
        "    Returns:\n",
        "    Updated storage dictionary.\n",
        "    \"\"\"\n",
        "    storage.update(elm)\n",
        "    return storage\n",
        "\n",
        "def fully_assoc_cache_map(cache, mem, address):\n",
        "\n",
        "    tag, word = address[:11], address[11:]  # Splitting the address into tag and word parts\n",
        "\n",
        "    # Check for the block in the cache\n",
        "    for block in cache.values():\n",
        "        if block[0] == tag and block[2] == 1:  # If tag matches and valid bit is set\n",
        "            return cache  # Block is already in the cache\n",
        "\n",
        "    # Find an empty cache line\n",
        "    for block_label, block_content in cache.items():\n",
        "        if block_content[2] == 0:  # If valid bit is 0, indicating empty line\n",
        "            cache[block_label] = [tag, mem[address], 1]  # Set valid bit to 1\n",
        "            return cache\n",
        "\n",
        "    # Replace the first block if no empty line is found\n",
        "    first_block_label = list(cache.keys())[0]\n",
        "    cache[first_block_label] = [tag, mem[address], 1]\n",
        "\n",
        "    return cache\n",
        "\n",
        "# Initialize main memory and store data\n",
        "init_mem = {}\n",
        "mem = store(init_mem, {\"00000110101000\": [0, 1, 2, 3, 4, 5, 6, 7]})\n",
        "mem = store(mem, {\"00001110101000\": [10, 11, 12, 13, 14, 15, 16, 17]})\n",
        "mem = store(mem, {\"00011110101000\": [20, 21, 22, 23, 24, 25, 26, 27]})\n",
        "mem = store(mem, {\"00111110101000\": [30, 31, 32, 33, 34, 35, 36, 37]})\n",
        "mem = store(mem, {\"01111110101000\": [40, 41, 42, 43, 44, 45, 46, 47]})\n",
        "\n",
        "# Initialize cache with empty blocks\n",
        "cache = {\n",
        "    \"blk0\": [\"00000000000\", [0, 0, 0, 0, 0, 0, 0, 0], 0],\n",
        "    \"blk1\": [\"00000000000\", [0, 0, 0, 0, 0, 0, 0, 0], 0],\n",
        "    \"blk2\": [\"00000000000\", [0, 0, 0, 0, 0, 0, 0, 0], 0],\n",
        "    \"blk3\": [\"00000000000\", [0, 0, 0, 0, 0, 0, 0, 0], 0]\n",
        "}\n",
        "\n",
        "# Mapping blocks from memory to cache\n",
        "addresses = [\"00000110101000\", \"00001110101000\", \"00011110101000\", \"00111110101000\", \"01111110101000\"]\n",
        "\n",
        "#using a for loop\n",
        "for addr in addresses:\n",
        "    cache = fully_assoc_cache_map(cache, mem, addr)\n",
        "\n",
        "# Enhanced print statements for the cache state\n",
        "print(\"Current Cache Configuration:\")\n",
        "for block_label, block_content in cache.items():\n",
        "    print(f\"{block_label}: Tag: {block_content[0]}, Data: {block_content[1]}, Valid Bit: {block_content[2]}\")\n"
      ],
      "metadata": {
        "colab": {
          "base_uri": "https://localhost:8080/"
        },
        "id": "Hdfkob1HGwt4",
        "outputId": "26c2dcca-8dd3-420b-c8d5-3243ad8ae763"
      },
      "execution_count": 9,
      "outputs": [
        {
          "output_type": "stream",
          "name": "stdout",
          "text": [
            "Current Cache Configuration:\n",
            "blk0: Tag: 01111110101, Data: [40, 41, 42, 43, 44, 45, 46, 47], Valid Bit: 1\n",
            "blk1: Tag: 00001110101, Data: [10, 11, 12, 13, 14, 15, 16, 17], Valid Bit: 1\n",
            "blk2: Tag: 00011110101, Data: [20, 21, 22, 23, 24, 25, 26, 27], Valid Bit: 1\n",
            "blk3: Tag: 00111110101, Data: [30, 31, 32, 33, 34, 35, 36, 37], Valid Bit: 1\n"
          ]
        }
      ]
    },
    {
      "cell_type": "code",
      "source": [],
      "metadata": {
        "id": "jiulxKjcGw5S"
      },
      "execution_count": null,
      "outputs": []
    }
  ]
}