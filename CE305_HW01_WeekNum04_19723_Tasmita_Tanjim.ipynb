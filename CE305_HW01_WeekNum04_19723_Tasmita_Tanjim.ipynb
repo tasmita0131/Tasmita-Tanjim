{
  "cells": [
    {
      "cell_type": "markdown",
      "metadata": {
        "id": "view-in-github",
        "colab_type": "text"
      },
      "source": [
        "<a href=\"https://colab.research.google.com/github/tasmita0131/Tasmita-Tanjim/blob/main/CE305_HW01_WeekNum04_19723_Tasmita_Tanjim.ipynb\" target=\"_parent\"><img src=\"https://colab.research.google.com/assets/colab-badge.svg\" alt=\"Open In Colab\"/></a>"
      ]
    },
    {
      "cell_type": "code",
      "source": [
        "#NUMBER 01\n",
        "\n",
        "def base_conversion(user_number, original_base,target_base):\n",
        "\n",
        "    split_num = user_number.split('-')             # Spliting the user's number into parts based on hyphens\n",
        "    mid_numbers = split_num[1:-1]                  # Extracting the middle numbers that are surrounded by hyphens\n",
        "\n",
        "    # Validate the digits against the original base\n",
        "    for digit in mid_numbers:\n",
        "        if int(digit) >= original_base:\n",
        "            print(\"Error: A digit in the number is not valid for the given base.\")\n",
        "            return\n",
        "\n",
        "    no_hyphen_num = user_number.replace('-', '')               # The user's number without hyphens for processing\n",
        "    decimal_equivalent = 0                                     # The decimal equivalent of the user's number in the original base\n",
        "    exponent = len(no_hyphen_num) - len(mid_numbers) - 1       # The power to raise the base to during conversion\n",
        "\n",
        "    # Convert the first section of the number to its decimal equivalent\n",
        "    idx = 0                                                    # Index for iterating through characters\n",
        "    while idx < len(split_num[0]) and split_num[0][idx] != \" \":\n",
        "        decimal_equivalent += int(split_num[0][idx]) * (original_base ** exponent)\n",
        "        exponent -= 1\n",
        "        idx += 1\n",
        "\n",
        "    middle_exponent = exponent                               # Store the current exponent value for the middle section conversion\n",
        "\n",
        "    # Convert the middle section of the number to its decimal equivalent\n",
        "    idx = 0                                                  # Reset the index for the next loop\n",
        "    while idx < len(mid_numbers):\n",
        "        decimal_equivalent += int(mid_numbers[idx]) * (original_base ** middle_exponent)\n",
        "        middle_exponent -= 1\n",
        "        idx += 1\n",
        "\n",
        "    final_exponent = middle_exponent                        # Store the current exponent value for the final section conversion\n",
        "\n",
        "    # Convert the final section of the number to its decimal equivalent\n",
        "    idx = 0                                                 # Reset the index for the final loop\n",
        "    while idx < len(split_num[-1]) and split_num[-1][idx] != \" \":\n",
        "        decimal_equivalent += int(split_num[-1][idx]) * (original_base ** final_exponent)\n",
        "        final_exponent -= 1\n",
        "        idx += 1\n",
        "\n",
        "\n",
        "    # Convert the decimal equivalent to the target base\n",
        "    converted_num = \"\"                                    # A empty string to store the new number after conversion\n",
        "    while decimal_equivalent > 0:\n",
        "        converted_num = \"-\" + str(decimal_equivalent % target_base) + converted_num\n",
        "        decimal_equivalent //= target_base\n",
        "\n",
        "    print(\"Converted Number:\", converted_num)  # Output the number converted to the target base\n",
        "\n",
        "\n",
        "# Taking user inputs\n",
        "user_number = input(\"Enter the number: \")                             # User's inputted number\n",
        "original_base = int(input(\"Enter the current base of the number: \"))  # Original base of the user's number\n",
        "target_base = int(input(\"Enter the new  base to convert to: \"))       # The base to convert the number to\n",
        "\n",
        "# Execute the base conversion function\n",
        "base_conversion(user_number, original_base,target_base)\n"
      ],
      "metadata": {
        "colab": {
          "base_uri": "https://localhost:8080/"
        },
        "id": "olEWU9QyTQht",
        "outputId": "8dd26f36-d3b4-4733-f612-8d572eb357d6"
      },
      "execution_count": 22,
      "outputs": [
        {
          "output_type": "stream",
          "name": "stdout",
          "text": [
            "Enter the number: 6-54-3-21-\n",
            "Enter the current base of the number: 46\n",
            "Enter the new  base to convert to: 23\n",
            "Error: A digit in the number is not valid for the given base.\n"
          ]
        }
      ]
    },
    {
      "cell_type": "code",
      "source": [],
      "metadata": {
        "id": "7tMUX-5B8dM3"
      },
      "execution_count": null,
      "outputs": []
    },
    {
      "cell_type": "code",
      "source": [],
      "metadata": {
        "id": "y0FFaLghYEOL"
      },
      "execution_count": null,
      "outputs": []
    },
    {
      "cell_type": "code",
      "source": [
        "#Number 2\n",
        "\n",
        "def floating_model(floating_dec):\n",
        "\n",
        "    #Declaring with the sign bit\n",
        "    if floating_dec < 0:\n",
        "      sign_bit = '1'                   #1 means the number is negative\n",
        "      floating_dec = floating_dec * -1  #For easier calculation multiplying the number with minus 1\n",
        "    else:\n",
        "      sign_bit = '0'                   #0 indicating the number is positive\n",
        "\n",
        "\n",
        "    #Spliting the fractional and integer part separately\n",
        "    int_part = int(floating_dec)\n",
        "    frac_part = floating_dec - int_part\n",
        "\n",
        "    # Converting the integer part to binary\n",
        "    # 5 bits for the integer part\n",
        "    int_binary = bin(int_part)[2:]     #converting int_part to a binary number\n",
        "\n",
        "    # Convert the fractional part to binary\n",
        "    frac_binary = \"\"                  #empty string\n",
        "    bit_count = 0\n",
        "\n",
        "    while bit_count < 8:              # 8 bits for the fractional part #loop will iterate from 0 to 7\n",
        "        frac_part = frac_part * 2\n",
        "\n",
        "        #setting the binary bit according to records\n",
        "        if frac_part >= 1.0:\n",
        "          frac_binary += '1'\n",
        "          frac_part -= 1.0\n",
        "        else:\n",
        "           frac_binary += '0'\n",
        "        bit_count += 1\n",
        "\n",
        "\n",
        "    # Determine the number of shifts (exponent)\n",
        "    exponent = len(int_binary)\n",
        "\n",
        "    # Normalize the representation\n",
        "    normalized_binary = int_binary + frac_binary      #Getting the entire integer and fractional part of the number\n",
        "\n",
        "    # Compute the biased exponent\n",
        "    biased_exponent = exponent + 16                   #Adding bit 16 with the exponent\n",
        "    exponent_binary = format(biased_exponent, '05b')  # 5 bits for the exponent\n",
        "\n",
        "\n",
        "\n",
        "    #Getting the entire num with the integer and floating part\n",
        "    bin_whole = sign_bit+\"_\"+exponent_binary+\"_\"+normalized_binary[:8]\n",
        "    print(bin_whole)\n",
        "\n",
        "\n",
        "# Checking the validation of the input by using a while loop\n",
        "num = input(\"Enter a number you want to convert : \")\n",
        "\n",
        "if num.replace(\".\", \"\", 1).replace(\"-\", \"\", 1).isdigit():  # Checking if input is a valid number and replacing '.'\n",
        "    floating_dec = float(num)                               #converting the number in float in case if it is integer for easier calculation\n",
        "    result = floating_model(floating_dec)                   #calling the existing main function\n",
        "else:\n",
        "    print(\"Invalid input. Please enter a valid number.\")     #if the input is invalid then it will prompt a message.\n",
        "\n",
        "\n",
        "\n"
      ],
      "metadata": {
        "colab": {
          "base_uri": "https://localhost:8080/"
        },
        "id": "Ks2lPM_KwmKe",
        "outputId": "2219134a-ff91-4dcd-e219-1ab1f2defec3"
      },
      "execution_count": 24,
      "outputs": [
        {
          "output_type": "stream",
          "name": "stdout",
          "text": [
            "Enter a number you want to convert : -26.625\n",
            "1_10101_11010101\n"
          ]
        }
      ]
    },
    {
      "cell_type": "code",
      "source": [],
      "metadata": {
        "id": "AonHARA7Ksja"
      },
      "execution_count": null,
      "outputs": []
    }
  ],
  "metadata": {
    "colab": {
      "provenance": [],
      "authorship_tag": "ABX9TyPX3Lnb7h1nCESvahiBsWb9",
      "include_colab_link": true
    },
    "kernelspec": {
      "display_name": "Python 3",
      "name": "python3"
    },
    "language_info": {
      "name": "python"
    }
  },
  "nbformat": 4,
  "nbformat_minor": 0
}