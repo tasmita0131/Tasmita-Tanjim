{
  "nbformat": 4,
  "nbformat_minor": 0,
  "metadata": {
    "colab": {
      "provenance": [],
      "collapsed_sections": [],
      "authorship_tag": "ABX9TyMsLlX+W4njmTV8FX1k0ykx",
      "include_colab_link": true
    },
    "kernelspec": {
      "name": "python3",
      "display_name": "Python 3"
    },
    "language_info": {
      "name": "python"
    }
  },
  "cells": [
    {
      "cell_type": "markdown",
      "metadata": {
        "id": "view-in-github",
        "colab_type": "text"
      },
      "source": [
        "<a href=\"https://colab.research.google.com/github/tasmita0131/Tasmita-Tanjim/blob/main/INDASS02.ipynb\" target=\"_parent\"><img src=\"https://colab.research.google.com/assets/colab-badge.svg\" alt=\"Open In Colab\"/></a>"
      ]
    },
    {
      "cell_type": "code",
      "source": [
        "#ANSWER OF 2\n",
        "lst=[4,2,5,6]\n",
        "joining_elements=\"\".join([str(item) for item in lst])  #joining all elements\n",
        "num=int(joining_elements)+1                            #adding 1 with the whole number\n",
        "final_list=[int(x) for x in str(num)]                  #making the final new list\n",
        "print(final_list)"
      ],
      "metadata": {
        "colab": {
          "base_uri": "https://localhost:8080/"
        },
        "id": "nG2f3CRzZByg",
        "outputId": "9277bbad-f620-407b-c7a5-f2422b5e7764"
      },
      "execution_count": null,
      "outputs": [
        {
          "output_type": "stream",
          "name": "stdout",
          "text": [
            "[4, 2, 5, 7]\n"
          ]
        }
      ]
    },
    {
      "cell_type": "code",
      "source": [
        "#ANSWER OF 3\n",
        "a=input('Input the first binary number: ')\n",
        "b=input('Input the second binary number: ')\n",
        "sum=0\n",
        "def binary_sum(a,b):\n",
        "    sum=bin(int(a,2)+int(b,2))                     #bin() for converting decimal to binary and int() for converting binary to decimal\n",
        "    print('The sum of binary number is :',sum[2:])  #sum will be a binary number\n",
        "\n",
        "binary_sum(a,b)\n"
      ],
      "metadata": {
        "colab": {
          "base_uri": "https://localhost:8080/"
        },
        "id": "ku3EaNvfhmJC",
        "outputId": "d6a0f3da-9a0c-4935-af71-0968ec67640f"
      },
      "execution_count": null,
      "outputs": [
        {
          "output_type": "stream",
          "name": "stdout",
          "text": [
            "Input the first binary number: 1011\n",
            "Input the second binary number: 10\n",
            "The sum of binary number is : 1101\n"
          ]
        }
      ]
    },
    {
      "cell_type": "code",
      "source": [
        "#ANSWER OF 04\n",
        "import math\n",
        "n=eval(input('Give the input: '))\n",
        "def sumDiv(drv):\n",
        "    sum = 0;\n",
        "    for i in range(1,drv):\n",
        "        if(drv%i==0):\n",
        "            sum=sum+i\n",
        "    return sum;\n",
        "def amicable(itr):\n",
        "    final = 0\n",
        "    for i in range(1,itr):\n",
        "        currentDivs = sumDiv(int(i));\n",
        "        resultDivs = sumDiv(currentDivs);\n",
        "        if (i == resultDivs and currentDivs != resultDivs):\n",
        "            if(i > n):\n",
        "                print(i)\n",
        "                final = i\n",
        "                return i\n",
        "                break    \n",
        "    if(final == 0):\n",
        "        amicable(itr*2)\n",
        "def amc(n):\n",
        "    final_result = amicable(1500);  \n",
        "amc(n)"
      ],
      "metadata": {
        "colab": {
          "base_uri": "https://localhost:8080/"
        },
        "id": "jN3VCrwt_CfO",
        "outputId": "c3e4243d-7a3e-4db7-f6a2-3e4cbd39d6e9"
      },
      "execution_count": 8,
      "outputs": [
        {
          "output_type": "stream",
          "name": "stdout",
          "text": [
            "Give the input: 220\n",
            "284\n"
          ]
        }
      ]
    },
    {
      "cell_type": "code",
      "source": [
        "#ANSWER OF 1\n",
        "n=input('Input the word: ').lower()\n",
        "m=eval(input('Input the value of key: '))\n",
        "o=input('Enter e to encode or d to decode: ')\n",
        "newstr=\"\"\n",
        "if(o=='e'):\n",
        "  for ch in n:\n",
        "    newstr=newstr+chr(ord(ch) + m)   #for encoding\n",
        "elif(o=='d'):\n",
        "    newstr=newstr+chr(ord(ch) - m)   #for decoding\n",
        "else:\n",
        "  print('Sorry, try again.')\n",
        "print(newstr)"
      ],
      "metadata": {
        "colab": {
          "base_uri": "https://localhost:8080/"
        },
        "id": "X7cVcoifu0TQ",
        "outputId": "30c5c1f4-2031-444a-8d43-451927f47495"
      },
      "execution_count": null,
      "outputs": [
        {
          "output_type": "stream",
          "name": "stdout",
          "text": [
            "Input the word: Sourpuss\n",
            "Input the value of key: 2\n",
            "Enter e to encode or d to decode: e\n",
            "uqwtrwuu\n"
          ]
        }
      ]
    }
  ]
}