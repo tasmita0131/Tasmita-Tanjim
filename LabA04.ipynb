{
  "nbformat": 4,
  "nbformat_minor": 0,
  "metadata": {
    "colab": {
      "provenance": [],
      "collapsed_sections": [],
      "authorship_tag": "ABX9TyNBnwlDMPlb6nokPhs1boSO",
      "include_colab_link": true
    },
    "kernelspec": {
      "name": "python3",
      "display_name": "Python 3"
    },
    "language_info": {
      "name": "python"
    }
  },
  "cells": [
    {
      "cell_type": "markdown",
      "metadata": {
        "id": "view-in-github",
        "colab_type": "text"
      },
      "source": [
        "<a href=\"https://colab.research.google.com/github/tasmita0131/Tasmita-Tanjim/blob/main/LabA04.ipynb\" target=\"_parent\"><img src=\"https://colab.research.google.com/assets/colab-badge.svg\" alt=\"Open In Colab\"/></a>"
      ]
    },
    {
      "cell_type": "code",
      "execution_count": null,
      "metadata": {
        "colab": {
          "base_uri": "https://localhost:8080/"
        },
        "id": "dL4hxIi4Olkg",
        "outputId": "780b13b1-c076-456e-b41d-a81a342d49eb"
      },
      "outputs": [
        {
          "output_type": "stream",
          "name": "stdout",
          "text": [
            "Tell us the number : 16\n",
            "1\n",
            "2\n",
            "3\n",
            "funny\n",
            "5\n",
            "buzz\n",
            "7\n",
            "funny\n",
            "9\n",
            "10\n",
            "11\n",
            "funnybuzz\n",
            "13\n",
            "14\n",
            "15\n",
            "funny\n"
          ]
        }
      ],
      "source": [
        "#ANSWER OF 1\n",
        "n=eval(input('Tell us the number : '))\n",
        "def funny(n):\n",
        "  i=1\n",
        "  while(i<=n):\n",
        "    if(i%4!=0 and i%6!=0):\n",
        "     print(i)\n",
        "     i=i+1\n",
        "    elif(i%4==0 and i%6!=0):\n",
        "      print('funny')\n",
        "      i=i+1\n",
        "    elif(i%6==0 and i%4!=0):\n",
        "      print('buzz')\n",
        "      i=i+1\n",
        "    else:\n",
        "      print('funnybuzz')\n",
        "      i=i+1\n",
        "funny(n)"
      ]
    },
    {
      "cell_type": "code",
      "source": [
        "#ANSWER OF 2\n",
        "m=eval(input('Tell us the first number : '))\n",
        "n=eval(input('Tell us the second number : '))\n",
        "l=eval(input('Tell us the limit : '))\n",
        "def multiples_sum(m,n,l):\n",
        "   sum=0\n",
        "   for i in range(0,l):\n",
        "     if(i%m==0 or i%n==0):\n",
        "       sum+=i\n",
        "   print(sum)\n",
        "multiples_sum(m,n,l)"
      ],
      "metadata": {
        "colab": {
          "base_uri": "https://localhost:8080/"
        },
        "id": "p7Bz4CWtOrY1",
        "outputId": "f6315503-7ebb-4cd2-be94-3336dff85d94"
      },
      "execution_count": null,
      "outputs": [
        {
          "output_type": "stream",
          "name": "stdout",
          "text": [
            "Tell us the first number : 3\n",
            "Tell us the second number : 7\n",
            "Tell us the limit : 1000\n",
            "214216\n"
          ]
        }
      ]
    },
    {
      "cell_type": "code",
      "source": [
        "#ANSWER OF 3\n",
        "m=eval(input('Tell us the number : '))\n",
        "def hailstone(m):\n",
        " while(m!=1):\n",
        "  if(m%2==0):\n",
        "    m=m/2\n",
        "    print(int(m))\n",
        "    if(m==1):\n",
        "      break\n",
        "  else:\n",
        "    m=m*3+1\n",
        "    print(int(m))\n",
        "    if(m==1):\n",
        "      break \n",
        "hailstone(m)   "
      ],
      "metadata": {
        "colab": {
          "base_uri": "https://localhost:8080/"
        },
        "id": "FxR6PgQUPQEh",
        "outputId": "c149cde8-ec4b-42eb-fca9-8e5d77e2081a"
      },
      "execution_count": null,
      "outputs": [
        {
          "output_type": "stream",
          "name": "stdout",
          "text": [
            "Tell us the number : 12\n",
            "6\n",
            "3\n",
            "10\n",
            "5\n",
            "16\n",
            "8\n",
            "4\n",
            "2\n",
            "1\n"
          ]
        }
      ]
    },
    {
      "cell_type": "code",
      "source": [
        "#ANSWER OF 4\n",
        "n=eval(input('Tell us the number : '))\n",
        "def nearest(target):\n",
        "    if target > 1:\n",
        "        for i in range(1, round(target)):\n",
        "            if (2 ** i >= target):\n",
        "                #print (2 * i ,2 * (i-1), target)\n",
        "                if(abs((2 * i) - target) > abs((2 * (i-1)) - target)):\n",
        "                    return 2 ** (i-1)\n",
        "                else:\n",
        "                    return 2 ** i\n",
        "    else:\n",
        "        return 1\n",
        " \n",
        "\n",
        "print(nearest(n));"
      ],
      "metadata": {
        "colab": {
          "base_uri": "https://localhost:8080/"
        },
        "id": "GgraiX46pbKu",
        "outputId": "ea4662e3-234c-439a-e482-613f91169f82"
      },
      "execution_count": 4,
      "outputs": [
        {
          "output_type": "stream",
          "name": "stdout",
          "text": [
            "Tell us the number : 1.5\n",
            "2\n"
          ]
        }
      ]
    },
    {
      "cell_type": "code",
      "source": [
        "#ANSWER of 5\n",
        "m=eval(input('Tell us the number : '))\n",
        "def check(m):\n",
        " sum=0\n",
        " for i in range(1,m):\n",
        "  if(m%i==0):\n",
        "   if(int(m/i) >= i):\n",
        "    print(i,\"*\",int(m/i))\n",
        "   sum=sum+i\n",
        "\n",
        " if(sum>m):\n",
        "  print(True)\n",
        " else:\n",
        "  print(False)\n",
        "\n",
        "check(m)"
      ],
      "metadata": {
        "colab": {
          "base_uri": "https://localhost:8080/"
        },
        "id": "CTG150tTzjxl",
        "outputId": "64f6b78b-2a6e-4a30-c7be-3cfa0ae2130c"
      },
      "execution_count": null,
      "outputs": [
        {
          "output_type": "stream",
          "name": "stdout",
          "text": [
            "Tell us the number : 22\n",
            "1 * 22\n",
            "2 * 11\n",
            "False\n"
          ]
        }
      ]
    }
  ]
}